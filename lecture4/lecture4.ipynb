{
 "cells": [
  {
   "cell_type": "code",
   "id": "initial_id",
   "metadata": {
    "collapsed": true,
    "ExecuteTime": {
     "end_time": "2024-06-01T14:58:41.205638Z",
     "start_time": "2024-06-01T14:58:41.201101Z"
    }
   },
   "source": "import pandas as pd",
   "execution_count": 12,
   "outputs": []
  },
  {
   "metadata": {
    "ExecuteTime": {
     "end_time": "2024-06-01T14:58:41.432924Z",
     "start_time": "2024-06-01T14:58:41.340273Z"
    }
   },
   "cell_type": "code",
   "source": "df = pd.read_csv('guns.csv')",
   "id": "5622a76ca5850680",
   "execution_count": 13,
   "outputs": []
  },
  {
   "metadata": {
    "ExecuteTime": {
     "end_time": "2024-06-01T14:58:41.439031Z",
     "start_time": "2024-06-01T14:58:41.434435Z"
    }
   },
   "cell_type": "code",
   "source": "df.shape",
   "id": "ebc81a311b612d2a",
   "execution_count": 14,
   "outputs": []
  },
  {
   "metadata": {},
   "cell_type": "markdown",
   "source": "Q1: How does the number of annual suicide gun-deaths vary across the years, by gender",
   "id": "cd6bd366753b2a16"
  },
  {
   "metadata": {
    "ExecuteTime": {
     "end_time": "2024-06-01T14:58:41.450646Z",
     "start_time": "2024-06-01T14:58:41.439862Z"
    }
   },
   "cell_type": "code",
   "source": "df.head()",
   "id": "4d3650725aaf9a41",
   "execution_count": 15,
   "outputs": []
  },
  {
   "metadata": {
    "ExecuteTime": {
     "end_time": "2024-06-01T14:58:41.458240Z",
     "start_time": "2024-06-01T14:58:41.452532Z"
    }
   },
   "cell_type": "code",
   "source": "df['Unnamed: 0'].unique()",
   "id": "260378143ec4ca56",
   "execution_count": 16,
   "outputs": []
  },
  {
   "metadata": {
    "ExecuteTime": {
     "end_time": "2024-06-01T14:58:41.467904Z",
     "start_time": "2024-06-01T14:58:41.459301Z"
    }
   },
   "cell_type": "code",
   "source": [
    "df.drop(columns=['Unnamed: 0'], inplace=True)\n",
    "\n",
    "df.columns"
   ],
   "id": "5da9de584034a750",
   "execution_count": 17,
   "outputs": []
  },
  {
   "metadata": {
    "ExecuteTime": {
     "end_time": "2024-06-01T14:58:41.474135Z",
     "start_time": "2024-06-01T14:58:41.468578Z"
    }
   },
   "cell_type": "code",
   "source": "df['intent'].unique()",
   "id": "c6066504b0060343",
   "execution_count": 18,
   "outputs": []
  },
  {
   "metadata": {
    "ExecuteTime": {
     "end_time": "2024-06-01T14:58:41.487494Z",
     "start_time": "2024-06-01T14:58:41.475412Z"
    }
   },
   "cell_type": "code",
   "source": "len(df[df['intent'] == 'Suicide'])",
   "id": "221a85912ebe4e6c",
   "execution_count": 19,
   "outputs": []
  },
  {
   "metadata": {
    "ExecuteTime": {
     "end_time": "2024-06-01T14:58:41.507559Z",
     "start_time": "2024-06-01T14:58:41.501135Z"
    }
   },
   "cell_type": "code",
   "source": "df['sex'].unique()",
   "id": "28610c6adae9312d",
   "execution_count": 20,
   "outputs": []
  },
  {
   "metadata": {
    "ExecuteTime": {
     "end_time": "2024-06-01T14:58:41.543640Z",
     "start_time": "2024-06-01T14:58:41.523159Z"
    }
   },
   "cell_type": "code",
   "source": "df.info()",
   "id": "49274fad1ab777c",
   "execution_count": 21,
   "outputs": []
  },
  {
   "metadata": {
    "ExecuteTime": {
     "end_time": "2024-06-01T14:58:41.985004Z",
     "start_time": "2024-06-01T14:58:41.590248Z"
    }
   },
   "cell_type": "code",
   "source": [
    "import plotly.express as px\n",
    "\n",
    "fig = px.scatter(df, x='sex', y='year', color='year', title='Sex vs Year')\n",
    "fig.show()"
   ],
   "id": "99e9e798699de069",
   "execution_count": 22,
   "outputs": []
  },
  {
   "metadata": {},
   "cell_type": "code",
   "source": [
    "# Filter the DataFrame for suicide intent\n",
    "df_suicide = df[df['intent'] == 'Suicide']\n",
    "\n",
    "# Group by 'year' and 'sex', and count the number of occurrences\n",
    "annual_suicide_by_gender = df_suicide.groupby(['year', 'sex']).size()\n",
    "\n",
    "annual_suicide_by_gender"
   ],
   "id": "1343665b78486166",
   "execution_count": 23,
   "outputs": []
  },
  {
   "metadata": {
    "ExecuteTime": {
     "end_time": "2024-06-01T14:58:42.324067Z",
     "start_time": "2024-06-01T14:58:42.010693Z"
    }
   },
   "cell_type": "code",
   "source": "annual_suicide_by_gender.plot(kind='bar', stacked=True)",
   "id": "ed5f9ba10bd6712c",
   "execution_count": 24,
   "outputs": []
  },
  {
   "metadata": {
    "ExecuteTime": {
     "end_time": "2024-06-01T14:58:42.332668Z",
     "start_time": "2024-06-01T14:58:42.325837Z"
    }
   },
   "cell_type": "code",
   "source": [
    "# course_list = ['CSE', 'EXTC', 'Mech', 'Aero', 'Mining']\n",
    "# bar_indexes_along_x_axis = np.arange(len(course_list))\n",
    "# \n",
    "# girls_count_bar_height = [150, 100, 50, 20, 8]\n",
    "# boys_count_bar_height = [100, 120, 80, 52, 28]\n",
    "# \n",
    "# w = 0.4\n",
    "# \n",
    "# bar_1 = bar_indexes_along_x_axis\n",
    "# bar_2 = [(i + w) for i in bar_1]\n",
    "# \n",
    "# plt.xticks(bar_1 + (w / 2), course_list)\n",
    "# \n",
    "# plt.bar(bar_1, height=girls_count_bar_height, width=w, label=\"Girls\")\n",
    "# plt.bar(bar_2, height=boys_count_bar_height, width=w, label=\"Boys\")\n"
   ],
   "id": "eff67a4740196a36",
   "execution_count": 25,
   "outputs": []
  },
  {
   "metadata": {
    "ExecuteTime": {
     "end_time": "2024-06-01T14:58:42.336648Z",
     "start_time": "2024-06-01T14:58:42.333706Z"
    }
   },
   "cell_type": "code",
   "source": [
    "# import plotly.express as px\n",
    "# \n",
    "# px.histogram(annual_suicide_by_gender, x='sex', y='year')"
   ],
   "id": "1394fabbc918432a",
   "execution_count": 26,
   "outputs": []
  },
  {
   "metadata": {},
   "cell_type": "markdown",
   "source": "Q2: What is the number of gun-deaths by race per 100,000 people in the USA",
   "id": "a370451e1ba4e60a"
  },
  {
   "metadata": {
    "ExecuteTime": {
     "end_time": "2024-06-01T14:58:42.342623Z",
     "start_time": "2024-06-01T14:58:42.337391Z"
    }
   },
   "cell_type": "code",
   "source": "df.shape",
   "id": "e27c84e92feb3d77",
   "execution_count": 27,
   "outputs": []
  },
  {
   "metadata": {
    "ExecuteTime": {
     "end_time": "2024-06-01T14:58:42.356568Z",
     "start_time": "2024-06-01T14:58:42.346595Z"
    }
   },
   "cell_type": "code",
   "source": [
    "# Group by 'race' and count the number of occurrences\n",
    "gun_deaths_by_race = df['race'].value_counts().reset_index()\n",
    "gun_deaths_by_race.columns = ['race', 'gun_deaths']\n",
    "\n",
    "gun_deaths_by_race"
   ],
   "id": "cabcc455a1d8807",
   "execution_count": 28,
   "outputs": []
  },
  {
   "metadata": {
    "ExecuteTime": {
     "end_time": "2024-06-01T14:58:42.360630Z",
     "start_time": "2024-06-01T14:58:42.357608Z"
    }
   },
   "cell_type": "code",
   "source": "gun_deaths_by_race['death_per_100k'] = (gun_deaths_by_race['gun_deaths'] / 1_00_000) * 100",
   "id": "a36a9d4ca279d47f",
   "execution_count": 29,
   "outputs": []
  },
  {
   "metadata": {
    "ExecuteTime": {
     "end_time": "2024-06-01T14:58:42.367169Z",
     "start_time": "2024-06-01T14:58:42.361733Z"
    }
   },
   "cell_type": "code",
   "source": "gun_deaths_by_race",
   "id": "ae19b8a9f3f96044",
   "execution_count": 30,
   "outputs": []
  },
  {
   "metadata": {
    "ExecuteTime": {
     "end_time": "2024-06-01T14:58:42.401673Z",
     "start_time": "2024-06-01T14:58:42.370331Z"
    }
   },
   "cell_type": "code",
   "source": [
    "import plotly.express as px\n",
    "\n",
    "px.pie(gun_deaths_by_race, values='death_per_100k', names='race', title='Death per 100k vs Race')"
   ],
   "id": "ec28fcc39534a200",
   "execution_count": 31,
   "outputs": []
  },
  {
   "metadata": {
    "ExecuteTime": {
     "end_time": "2024-06-01T14:58:42.435413Z",
     "start_time": "2024-06-01T14:58:42.403181Z"
    }
   },
   "cell_type": "code",
   "source": "px.bar(gun_deaths_by_race, x=\"death_per_100k\", y=\"race\", title=\"Death per 100k vs Race\")",
   "id": "bca25755d5438b9e",
   "execution_count": 32,
   "outputs": []
  },
  {
   "metadata": {},
   "cell_type": "markdown",
   "source": "From the chart we can see that White have the highest number of gun death followed by Blacl, Hispanic, Asians/Pacific Islander and Native American/Alaskan coming ah the end",
   "id": "a7874a1d420cac27"
  },
  {
   "metadata": {
    "ExecuteTime": {
     "end_time": "2024-06-01T14:58:42.546219Z",
     "start_time": "2024-06-01T14:58:42.437870Z"
    }
   },
   "cell_type": "code",
   "source": "gun_deaths_by_race.plot(kind='pie', y=\"death_per_100k\", title=\"Death per 100k vs Race\")",
   "id": "2ba14fd803552ecd",
   "execution_count": 33,
   "outputs": []
  },
  {
   "metadata": {},
   "cell_type": "markdown",
   "source": "Q3: What is the average number of gun-deaths by cause, in the USA",
   "id": "c5499114a2aeadfc"
  },
  {
   "metadata": {
    "ExecuteTime": {
     "end_time": "2024-06-01T14:58:42.557870Z",
     "start_time": "2024-06-01T14:58:42.547843Z"
    }
   },
   "cell_type": "code",
   "source": [
    "gun_deaths_by_cause = df['intent'].value_counts().reset_index()\n",
    "gun_deaths_by_cause['avg_by_cause'] = (gun_deaths_by_cause['count'] / df.shape[0]) * 100\n",
    "gun_deaths_by_cause"
   ],
   "id": "53376d34788eddd3",
   "execution_count": 34,
   "outputs": []
  },
  {
   "metadata": {
    "ExecuteTime": {
     "end_time": "2024-06-01T14:58:42.593853Z",
     "start_time": "2024-06-01T14:58:42.558866Z"
    }
   },
   "cell_type": "code",
   "source": "px.pie(gun_deaths_by_cause, values='avg_by_cause', names='intent', title='Average number of gun-death by cause')",
   "id": "ea2e3d3003f677c7",
   "execution_count": 35,
   "outputs": []
  },
  {
   "metadata": {
    "ExecuteTime": {
     "end_time": "2024-06-01T14:58:42.642979Z",
     "start_time": "2024-06-01T14:58:42.594765Z"
    }
   },
   "cell_type": "code",
   "source": [
    "fig = px.histogram(gun_deaths_by_cause,\n",
    "                   x='intent', y='avg_by_cause', color='intent',\n",
    "                   title='Average number of gun-death by cause')\n",
    "fig.show()"
   ],
   "id": "a86f0fd299b8191",
   "execution_count": 36,
   "outputs": []
  },
  {
   "metadata": {},
   "cell_type": "markdown",
   "source": "From the chart we can see that Suicide is the highest cause of gun death followed by Homicide, Accidental cause and Undetermined coming at the end",
   "id": "7efcbb07c69d6b5b"
  },
  {
   "metadata": {},
   "cell_type": "markdown",
   "source": "Q4: What is the percentage per 100,000 people of annual gun-deaths in the USA from 2012 to 2014 by cause",
   "id": "7566461dda453a0a"
  },
  {
   "metadata": {
    "ExecuteTime": {
     "end_time": "2024-06-01T14:58:42.653372Z",
     "start_time": "2024-06-01T14:58:42.644486Z"
    }
   },
   "cell_type": "code",
   "source": [
    "gun_deaths_by_cause_percent = df['intent'].value_counts().reset_index()\n",
    "gun_deaths_by_cause_percent['avg_by_cause'] = (gun_deaths_by_cause_percent['count'] / 100_000) * 100\n",
    "gun_deaths_by_cause_percent"
   ],
   "id": "81fcd74ec5df41a6",
   "execution_count": 37,
   "outputs": []
  },
  {
   "metadata": {
    "ExecuteTime": {
     "end_time": "2024-06-01T14:58:42.686561Z",
     "start_time": "2024-06-01T14:58:42.654172Z"
    }
   },
   "cell_type": "code",
   "source": [
    "px.pie(gun_deaths_by_cause_percent, values='avg_by_cause', names='intent',\n",
    "       title='Average number of gun-death per 100,000 people')"
   ],
   "id": "364a217e1bd5750b",
   "execution_count": 38,
   "outputs": []
  },
  {
   "metadata": {
    "ExecuteTime": {
     "end_time": "2024-06-01T14:58:42.811601Z",
     "start_time": "2024-06-01T14:58:42.688464Z"
    }
   },
   "cell_type": "code",
   "source": [
    "px.bar(gun_deaths_by_cause_percent, x=\"avg_by_cause\", y=\"intent\",\n",
    "       title=\"Average number of gun-death per 100,000 people\")"
   ],
   "id": "70df156ee2e17e27",
   "execution_count": 39,
   "outputs": []
  },
  {
   "metadata": {},
   "cell_type": "markdown",
   "source": "Sucide and Homicide, together contribute to `~ 90%` of gun-related deaths, Additionally, there are about 0",
   "id": "22234b2f1b2a7153"
  },
  {
   "metadata": {},
   "cell_type": "markdown",
   "source": "Q5: What is the percentage of annual suicide gun death in the United States from 2012 to 2014",
   "id": "e79a75f56cafb065"
  },
  {
   "metadata": {
    "ExecuteTime": {
     "end_time": "2024-06-01T15:07:07.847366Z",
     "start_time": "2024-06-01T15:07:07.747555Z"
    }
   },
   "cell_type": "code",
   "source": [
    "# initial = df[df['intent'] == 'Suicide'].value_counts().reset_index()\n",
    "# initial.columns = ['year', 'intent']\n",
    "\n",
    "# TODO:\n",
    "\n",
    "initial = df[df['intent'] == 'Suicide'].groupby('year').value_counts().reset_index()\n",
    "initial['percent'] = (initial['count'] / df.shape[0]) * 100\n",
    "initial\n",
    "\n",
    "# gun_deaths_by_suicide_percent\n",
    "\n",
    "# gun_deaths_by_suicide_percent['count']\n",
    "# gun_deaths_by_suicide_percent = initial[initial['year'], initial['intent'], initial['count']]\n",
    "# gun_deaths_by_suicide_percent\n",
    "# gun_deaths_by_suicide_percent = df.groupby([''])\n",
    "\n",
    "# # Group by 'race' and count the number of occurrences\n",
    "# gun_deaths_by_race = df['race'].value_counts().reset_index()\n",
    "# gun_deaths_by_race.columns = ['race', 'gun_deaths']\n",
    "# \n",
    "# gun_deaths_by_race"
   ],
   "id": "97fdd0c6433e0231",
   "execution_count": 61,
   "outputs": []
  },
  {
   "metadata": {
    "ExecuteTime": {
     "end_time": "2024-06-01T15:05:33.582904Z",
     "start_time": "2024-06-01T15:05:33.576716Z"
    }
   },
   "cell_type": "code",
   "source": "\n",
   "id": "6c706655dab4237c",
   "execution_count": 57,
   "outputs": []
  },
  {
   "metadata": {},
   "cell_type": "markdown",
   "source": [
    "### Results:\n",
    "\n",
    "| SN# | Question                                                                                            | Result                                                                                                                                                                                 |\n",
    "|---|-----------------------------------------------------------------------------------------------------|----------------------------------------------------------------------------------------------------------------------------------------------------------------------------------------|\n",
    "|Q1.| How does the number of annual suicide gun-deaths vary across the years, by gender                   | `Male` gender have the highest suicide rate which is about 6x more than the `Females` from 2012-2014                                                                                    |\n",
    "|Q2.| What is the number of gun-deaths by race per 100,000 people in the USA                              | From the chart we can see that `White` have the highest number of gun death followed by `Black`, `Hispanic`, `Asians/Pacific Islander` and `Native American/Alaskan` coming ah the end |\n",
    "|Q3.| What is the average number of gun-deaths by cause, in the USA                                       | From the chart we can see that `Suicide` is the highest cause of gun death followed by `Homicide`, `Accidental` cause and `Undetermined` coming at the end                                     |\n",
    "|Q4.| What is the percentage per 100,000 people of annual gun-deaths in the USA from 2012 to 2014 by cause | `Suicide` and `Homicide` contribute about `~98%` of gun related deaths. Addiotionally, there are about 60 `Suicides` per 100,000 people; and ~ 30 `Homicide` per 100,000 people\n",
    "|Q5.| What is the percentage of annual suicide gun death in the United States from 2012 to 2014                                                                                                    | The proportion of `Suicides` per year (`60%` of gun-related deaths), remains fairly constants over the 3 years as analyzed, this means that this is a fairly regular pattern in US society. "
   ],
   "id": "85a535f421cf6692"
  },
  {
   "metadata": {
    "ExecuteTime": {
     "end_time": "2024-06-01T14:58:42.826152Z",
     "start_time": "2024-06-01T14:58:42.824668Z"
    }
   },
   "cell_type": "code",
   "source": "somw",
   "id": "2f185e52cc5e4987",
   "execution_count": 40,
   "outputs": []
  }
 ],
 "metadata": {
  "kernelspec": {
   "display_name": "Python 3",
   "language": "python",
   "name": "python3"
  },
  "language_info": {
   "codemirror_mode": {
    "name": "ipython",
    "version": 2
   },
   "file_extension": ".py",
   "mimetype": "text/x-python",
   "name": "python",
   "nbconvert_exporter": "python",
   "pygments_lexer": "ipython2",
   "version": "2.7.6"
  }
 },
 "nbformat": 4,
 "nbformat_minor": 5
}
