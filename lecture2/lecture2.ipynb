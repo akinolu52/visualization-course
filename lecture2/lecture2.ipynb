{
 "cells": [
  {
   "cell_type": "code",
   "id": "initial_id",
   "metadata": {
    "collapsed": true,
    "ExecuteTime": {
     "end_time": "2024-06-08T14:18:49.552292Z",
     "start_time": "2024-06-08T14:18:49.550486Z"
    }
   },
   "source": [
    "import matplotlib.pyplot as plt\n",
    "import pandas as pd"
   ],
   "execution_count": 1,
   "outputs": []
  },
  {
   "metadata": {
    "ExecuteTime": {
     "end_time": "2024-06-08T14:18:49.565369Z",
     "start_time": "2024-06-08T14:18:49.553133Z"
    }
   },
   "cell_type": "code",
   "source": [
    "df = pd.read_csv('../dataset/CustomersTransactions2021.csv')\n",
    "df.shape"
   ],
   "id": "d93100d0eb2a7493",
   "execution_count": 2,
   "outputs": []
  },
  {
   "metadata": {},
   "cell_type": "markdown",
   "source": "### BOXPLOT",
   "id": "8c7dbd3c95a4555e"
  },
  {
   "metadata": {
    "ExecuteTime": {
     "end_time": "2024-06-08T14:18:49.653851Z",
     "start_time": "2024-06-08T14:18:49.566147Z"
    }
   },
   "cell_type": "code",
   "source": [
    "#plot a box plot example\n",
    "plt.boxplot(df['txn_total'])\n",
    "plt.title(\"boxplot of Txn Amount in $\")\n",
    "plt.xlabel(\"Txn_amount\")\n",
    "plt.ylabel(\"ranges\")"
   ],
   "id": "be1dbf630e9db8ad",
   "execution_count": 3,
   "outputs": []
  },
  {
   "metadata": {},
   "cell_type": "markdown",
   "source": "### SubPlot",
   "id": "bc1b5bf7470fa9bf"
  },
  {
   "metadata": {
    "ExecuteTime": {
     "end_time": "2024-06-08T14:18:49.661340Z",
     "start_time": "2024-06-08T14:18:49.654891Z"
    }
   },
   "cell_type": "code",
   "source": "df.head()",
   "id": "c40a01f19a65e7ac",
   "execution_count": 4,
   "outputs": []
  },
  {
   "metadata": {
    "ExecuteTime": {
     "end_time": "2024-06-08T14:18:49.664518Z",
     "start_time": "2024-06-08T14:18:49.661948Z"
    }
   },
   "cell_type": "code",
   "source": "df['Customers'].unique()",
   "id": "517f5988d1242d54",
   "execution_count": 5,
   "outputs": []
  },
  {
   "metadata": {
    "ExecuteTime": {
     "end_time": "2024-06-08T14:18:49.669837Z",
     "start_time": "2024-06-08T14:18:49.665114Z"
    }
   },
   "cell_type": "code",
   "source": "df[df['Customers'] == 'Delilah Avery']",
   "id": "29814545c263677b",
   "execution_count": 6,
   "outputs": []
  },
  {
   "metadata": {
    "ExecuteTime": {
     "end_time": "2024-06-08T14:18:49.673197Z",
     "start_time": "2024-06-08T14:18:49.670428Z"
    }
   },
   "cell_type": "code",
   "source": [
    "df.rename(columns={'id': 'txn_id'}, inplace=True)\n",
    "\n",
    "df.columns"
   ],
   "id": "ce18d4baa8582a0d",
   "execution_count": 7,
   "outputs": []
  },
  {
   "metadata": {
    "ExecuteTime": {
     "end_time": "2024-06-08T14:18:50.174485Z",
     "start_time": "2024-06-08T14:18:49.673966Z"
    }
   },
   "cell_type": "code",
   "source": [
    "fig, ((ax1, ax2, ax3), (ax4, ax5, ax6)) = plt.subplots(2, 3, figsize=(15, 5), sharex=True, sharey=True)\n",
    "ax1.plot(df[df['Customers'] == 'Johnny Awesome']['txn_id'], df[df['Customers'] == 'Johnny Awesome']['txn_total'],\n",
    "         'r--*')\n",
    "ax1.set_title('Johnny Awesome Transactions')\n",
    "\n",
    "ax2.plot(df[df['Customers'] == 'Bob Marley']['txn_id'], df[df['Customers'] == 'Bob Marley']['txn_total'], 'y--*')\n",
    "ax2.set_title('Bob Marley Transactions')\n",
    "\n",
    "ax3.plot(df[df['Customers'] == 'Taylor Swift']['txn_id'], df[df['Customers'] == 'Taylor Swift']['txn_total'], 'g--*')\n",
    "ax3.set_title('Taylor Swift Transactions')\n",
    "\n",
    "ax4.plot(df[df['Customers'] == 'Stephen Smith']['txn_id'], df[df['Customers'] == 'Stephen Smith']['txn_total'], 'b--*')\n",
    "ax4.set_title('Stephen Smith Transactions')\n",
    "\n",
    "ax5.plot(df[df['Customers'] == 'Delilah Avery']['txn_id'], df[df['Customers'] == 'Delilah Avery']['txn_total'], 'g--*')\n",
    "ax5.set_title('Delilah Avery Transactions')\n",
    "\n",
    "ax6.plot(df[df['Customers'] == 'Johnson Cory']['txn_id'], df[df['Customers'] == 'Johnson Cory']['txn_total'], 'r--*')\n",
    "ax6.set_title('Johnson Cory Transactions')"
   ],
   "id": "f588f889bcfc98ac",
   "execution_count": 8,
   "outputs": []
  },
  {
   "metadata": {},
   "cell_type": "markdown",
   "source": [
    "Notes\n",
    "* created a subplot of 2 rows and 3 columns of plots\n",
    "* sharex and sharey displays the graduations on the spie of the subplots, in other words the units of the x and y axis are only shown to the extreme left side and the base on the subplot\n",
    "* to plot on a specific subplot, use the associated label, ax1, ax2, etc\n",
    "* the syntax for a straight line plot is plt.plot(x,y)"
   ],
   "id": "1eb66f79bd1c9c63"
  },
  {
   "metadata": {
    "ExecuteTime": {
     "end_time": "2024-06-08T14:18:51.034271Z",
     "start_time": "2024-06-08T14:18:50.175299Z"
    }
   },
   "cell_type": "code",
   "source": [
    "fig, ((ax1, ax2, ax3, ax4), (ax5, ax6, ax7, ax8)) = plt.subplots(2, 4, figsize=(15, 5), sharex=True, sharey=True)\n",
    "ax1.plot(df[df['Customers'] == 'Johnny Awesome']['txn_id'], df[df['Customers'] == 'Johnny Awesome']['txn_total'],\n",
    "         'r--*')\n",
    "ax1.set_title('Johnny Awesome Transactions')\n",
    "\n",
    "ax2.plot(df[df['Customers'] == 'Bob Marley']['txn_id'], df[df['Customers'] == 'Bob Marley']['txn_total'], 'y--*')\n",
    "ax2.set_title('Bob Marley Transactions')\n",
    "\n",
    "ax3.plot(df[df['Customers'] == 'Taylor Swift']['txn_id'], df[df['Customers'] == 'Taylor Swift']['txn_total'], 'g--*')\n",
    "ax3.set_title('Taylor Swift Transactions')\n",
    "\n",
    "ax4.plot(df[df['Customers'] == 'Stephen Smith']['txn_id'], df[df['Customers'] == 'Stephen Smith']['txn_total'], 'y--*')\n",
    "ax4.set_title('Stephen Smith Transactions')\n",
    "\n",
    "ax5.plot(df[df['Customers'] == 'Delilah Avery']['txn_id'], df[df['Customers'] == 'Delilah Avery']['txn_total'], 'g--*')\n",
    "ax5.set_title('Delilah Avery Transactions')\n",
    "\n",
    "ax6.plot(df[df['Customers'] == 'Johnson Cory']['txn_id'], df[df['Customers'] == 'Johnson Cory']['txn_total'], 'r--*')\n",
    "ax6.set_title('Johnson Cory Transactions')\n",
    "\n",
    "ax7.plot(df['txn_id'], df['txn_total'], 'g--*')  #label=\"TRANSACTION_DOLLARS\")\n",
    "ax7.set_title('All Customer Transactions')\n"
   ],
   "id": "dabf37e5864547ee",
   "execution_count": 9,
   "outputs": []
  },
  {
   "metadata": {
    "ExecuteTime": {
     "end_time": "2024-06-08T14:18:51.244872Z",
     "start_time": "2024-06-08T14:18:51.048532Z"
    }
   },
   "cell_type": "code",
   "source": "plt.subplots()",
   "id": "353634a7e5d8c4c3",
   "execution_count": 10,
   "outputs": []
  },
  {
   "metadata": {},
   "cell_type": "markdown",
   "source": "### BarGraph",
   "id": "914aef6b2dc65e9b"
  },
  {
   "metadata": {
    "ExecuteTime": {
     "end_time": "2024-06-08T14:18:51.253576Z",
     "start_time": "2024-06-08T14:18:51.245900Z"
    }
   },
   "cell_type": "code",
   "source": [
    "# for each banking category, find the total_amount spent in it:\n",
    "\n",
    "df.groupby('Category')['txn_total'].sum()"
   ],
   "id": "7651a80c6f1058e6",
   "execution_count": 11,
   "outputs": []
  },
  {
   "metadata": {
    "ExecuteTime": {
     "end_time": "2024-06-08T14:18:51.264244Z",
     "start_time": "2024-06-08T14:18:51.256497Z"
    }
   },
   "cell_type": "code",
   "source": [
    "# for each banking category, find the total_amount spent in it:\n",
    "\n",
    "x1 = df.groupby('Category').aggregate({'txn_total': 'sum'})\n",
    "\n",
    "x1"
   ],
   "id": "30f4ccdeb60da19",
   "execution_count": 12,
   "outputs": []
  },
  {
   "metadata": {
    "ExecuteTime": {
     "end_time": "2024-06-08T14:18:51.498114Z",
     "start_time": "2024-06-08T14:18:51.265736Z"
    }
   },
   "cell_type": "code",
   "source": [
    "# create a bar-graph for this categorization\n",
    "\n",
    "x1.plot(kind='bar')"
   ],
   "id": "a3cd9bce0892d2c",
   "execution_count": 13,
   "outputs": []
  },
  {
   "metadata": {
    "ExecuteTime": {
     "end_time": "2024-06-08T14:18:51.604909Z",
     "start_time": "2024-06-08T14:18:51.499972Z"
    }
   },
   "cell_type": "code",
   "source": [
    "# create a bar-graph for this categorization and sort values in descending order\n",
    "\n",
    "x1 = x1.sort_values(by='txn_total', ascending=False)\n",
    "\n",
    "x1.plot(kind='bar')"
   ],
   "id": "54f7e1c6ec3b9377",
   "execution_count": 14,
   "outputs": []
  },
  {
   "metadata": {
    "ExecuteTime": {
     "end_time": "2024-06-08T14:18:51.806546Z",
     "start_time": "2024-06-08T14:18:51.607628Z"
    }
   },
   "cell_type": "code",
   "source": [
    "# annotate each bar\n",
    "\n",
    "# x1.category\n",
    "# print(x1['txn_total'])\n",
    "\n",
    "y1 = x1.plot(kind='bar')\n",
    "\n",
    "print(y1.containers[0])\n",
    "\n",
    "x1.plot(kind='bar', legend=False).bar_label(y1.containers[0])\n",
    "\n",
    "plt.show()\n",
    "# \n",
    "# for x, y in zip(x1['txn_total'], x1['Category']):\n",
    "#     print(x, y)\n",
    "# label = '{:.2f}'.format(x)\n",
    "# plt.annotate(label, xy=(x, y))\n"
   ],
   "id": "a002b136d607c1bb",
   "execution_count": 15,
   "outputs": []
  },
  {
   "metadata": {
    "ExecuteTime": {
     "end_time": "2024-06-08T14:18:51.810952Z",
     "start_time": "2024-06-08T14:18:51.808324Z"
    }
   },
   "cell_type": "code",
   "source": [
    "# x1.plot(kind='bar')\n",
    "# \n",
    "# for idx in x1.itertuples():\n",
    "#     label = f'{idx[1]}'\n",
    "#     print(idx[0], idx[1], label)\n",
    "#     plt.annotate(idx[1], (idx[0], idx[1]))"
   ],
   "id": "3ba66f3f2f4b16df",
   "execution_count": 16,
   "outputs": []
  },
  {
   "metadata": {
    "ExecuteTime": {
     "end_time": "2024-06-08T14:18:51.816633Z",
     "start_time": "2024-06-08T14:18:51.811823Z"
    }
   },
   "cell_type": "code",
   "source": [
    "sorted_df = df.groupby('Category').agg({'txn_total': 'sum'}).sort_values('txn_total', ascending=True)\n",
    "\n",
    "amounts = sorted_df['txn_total']\n",
    "\n",
    "amounts"
   ],
   "id": "c05e5c0272916916",
   "execution_count": 17,
   "outputs": []
  },
  {
   "metadata": {
    "ExecuteTime": {
     "end_time": "2024-06-08T14:18:51.891603Z",
     "start_time": "2024-06-08T14:18:51.817431Z"
    }
   },
   "cell_type": "code",
   "source": [
    "for idx, amount in enumerate(amounts):\n",
    "    plt.text(idx, amount, amount, ha='center')\n",
    "\n",
    "plt.bar(sorted_df.index, amounts, color=['blue', 'cyan', 'green'])"
   ],
   "id": "47b94c89e8e4719c",
   "execution_count": 18,
   "outputs": []
  },
  {
   "metadata": {
    "ExecuteTime": {
     "end_time": "2024-06-08T14:18:52.033246Z",
     "start_time": "2024-06-08T14:18:51.892476Z"
    }
   },
   "cell_type": "code",
   "source": [
    "# for each banking category, find the total amount paid via each payment method\n",
    "\n",
    "k1 = df.groupby(['Category', 'txn_type']).agg({'txn_total': 'sum'})\n",
    "\n",
    "k1.plot(kind='bar')"
   ],
   "id": "3ff7dba39c545338",
   "execution_count": 19,
   "outputs": []
  },
  {
   "metadata": {
    "ExecuteTime": {
     "end_time": "2024-06-08T14:18:52.183023Z",
     "start_time": "2024-06-08T14:18:52.034803Z"
    }
   },
   "cell_type": "code",
   "source": "k1.unstack('txn_type').plot(kind='bar', stacked=True)",
   "id": "5bf9d1a4429e3a39",
   "execution_count": 20,
   "outputs": []
  },
  {
   "metadata": {
    "ExecuteTime": {
     "end_time": "2024-06-08T14:18:52.185549Z",
     "start_time": "2024-06-08T14:18:52.183881Z"
    }
   },
   "cell_type": "code",
   "source": "",
   "id": "9e099ad57c1118ab",
   "execution_count": 20,
   "outputs": []
  }
 ],
 "metadata": {
  "kernelspec": {
   "display_name": "Python 3",
   "language": "python",
   "name": "python3"
  },
  "language_info": {
   "codemirror_mode": {
    "name": "ipython",
    "version": 2
   },
   "file_extension": ".py",
   "mimetype": "text/x-python",
   "name": "python",
   "nbconvert_exporter": "python",
   "pygments_lexer": "ipython2",
   "version": "2.7.6"
  }
 },
 "nbformat": 4,
 "nbformat_minor": 5
}
