{
 "cells": [
  {
   "cell_type": "code",
   "id": "initial_id",
   "metadata": {
    "collapsed": true,
    "ExecuteTime": {
     "end_time": "2024-06-08T14:18:39.472505Z",
     "start_time": "2024-06-08T14:18:39.468376Z"
    }
   },
   "source": [
    "import matplotlib.pyplot as plt\n",
    "import pandas as pd"
   ],
   "execution_count": 2,
   "outputs": []
  },
  {
   "metadata": {
    "ExecuteTime": {
     "end_time": "2024-06-08T14:18:39.525694Z",
     "start_time": "2024-06-08T14:18:39.495320Z"
    }
   },
   "cell_type": "code",
   "source": [
    "df = pd.read_csv('../dataset/CustomersTransactions2021.csv')\n",
    "df.shape"
   ],
   "id": "1bf05f34b84a5254",
   "execution_count": 3,
   "outputs": []
  },
  {
   "metadata": {
    "ExecuteTime": {
     "end_time": "2024-06-08T14:18:39.529379Z",
     "start_time": "2024-06-08T14:18:39.526633Z"
    }
   },
   "cell_type": "code",
   "source": "df.columns",
   "id": "6274e9d29d02dbe2",
   "execution_count": 4,
   "outputs": []
  },
  {
   "metadata": {
    "ExecuteTime": {
     "end_time": "2024-06-08T14:18:39.550035Z",
     "start_time": "2024-06-08T14:18:39.539541Z"
    }
   },
   "cell_type": "code",
   "source": "df.head(15)",
   "id": "92aa82745e53c8d8",
   "execution_count": 5,
   "outputs": []
  },
  {
   "metadata": {
    "ExecuteTime": {
     "end_time": "2024-06-08T14:18:39.554925Z",
     "start_time": "2024-06-08T14:18:39.551245Z"
    }
   },
   "cell_type": "code",
   "source": [
    "df.rename(columns={'id': 'txn_id'}, inplace=True)\n",
    "\n",
    "df.columns"
   ],
   "id": "3fd350dc2e52aee2",
   "execution_count": 6,
   "outputs": []
  },
  {
   "metadata": {
    "ExecuteTime": {
     "end_time": "2024-06-08T14:18:39.574423Z",
     "start_time": "2024-06-08T14:18:39.567112Z"
    }
   },
   "cell_type": "code",
   "source": [
    "# sort the values of txn_id\n",
    "\n",
    "df.sort_values(by='txn_id', inplace=True)\n",
    "df.head(15)"
   ],
   "id": "aa0448aaf2562386",
   "execution_count": 7,
   "outputs": []
  },
  {
   "metadata": {},
   "cell_type": "markdown",
   "source": "### Line graph:",
   "id": "139612413504bff9"
  },
  {
   "metadata": {
    "ExecuteTime": {
     "end_time": "2024-06-08T14:18:39.604050Z",
     "start_time": "2024-06-08T14:18:39.587807Z"
    }
   },
   "cell_type": "code",
   "source": "plt.figure(figsize=(18, 10))",
   "id": "8701b978166bae75",
   "execution_count": 8,
   "outputs": []
  },
  {
   "metadata": {
    "ExecuteTime": {
     "end_time": "2024-06-08T14:18:39.763572Z",
     "start_time": "2024-06-08T14:18:39.629565Z"
    }
   },
   "cell_type": "code",
   "source": [
    "# plot txn_id vs txn_total\n",
    "\n",
    "plt.plot(df['txn_id'], df['txn_total'])"
   ],
   "id": "21a17c71dd817c0",
   "execution_count": 9,
   "outputs": []
  },
  {
   "metadata": {
    "ExecuteTime": {
     "end_time": "2024-06-08T14:18:39.927278Z",
     "start_time": "2024-06-08T14:18:39.767185Z"
    }
   },
   "cell_type": "code",
   "source": [
    "# plot txn_id vs txn_total\n",
    "\n",
    "plt.plot(df['txn_id'], df['txn_total'])\n",
    "plt.title('Line Graph of Transaction Amounts')\n",
    "plt.xlabel('Txn_ID')\n",
    "plt.ylabel('Txn_amount in $')"
   ],
   "id": "d89abfbbbdc267f4",
   "execution_count": 10,
   "outputs": []
  },
  {
   "metadata": {
    "ExecuteTime": {
     "end_time": "2024-06-08T14:18:40.154462Z",
     "start_time": "2024-06-08T14:18:39.928869Z"
    }
   },
   "cell_type": "code",
   "source": [
    "# plot txn_id vs txn_total\n",
    "\n",
    "plt.plot(df['txn_id'], df['txn_total'], 'r--o', label=\"TRANSACTION_DOLLARS\")\n",
    "plt.title('Line Graph of Transaction Amounts')\n",
    "plt.xlabel('Txn_ID')\n",
    "plt.ylabel('Txn_amount in $')\n",
    "plt.legend()"
   ],
   "id": "b92aa448e46823a",
   "execution_count": 11,
   "outputs": []
  },
  {
   "metadata": {
    "ExecuteTime": {
     "end_time": "2024-06-08T14:18:40.358728Z",
     "start_time": "2024-06-08T14:18:40.157614Z"
    }
   },
   "cell_type": "code",
   "source": [
    "plt.plot(df['txn_id'], df['txn_total'], 'r--o', label=\"TRANSACTION_DOLLARS\")\n",
    "plt.title('Line Graph of Transaction Amounts')\n",
    "plt.xlabel('Txn_ID')\n",
    "plt.ylabel('Txn_amount in $', rotation=0, labelpad=40)\n",
    "plt.legend()"
   ],
   "id": "c75269d47cc05350",
   "execution_count": 12,
   "outputs": []
  },
  {
   "metadata": {
    "ExecuteTime": {
     "end_time": "2024-06-08T14:18:40.616560Z",
     "start_time": "2024-06-08T14:18:40.360001Z"
    }
   },
   "cell_type": "code",
   "source": [
    "plt.plot(df['txn_id'], df['txn_total'], 'r--o', label=\"TRANSACTION_DOLLARS\")\n",
    "plt.title('Line Graph of Transaction Amounts')\n",
    "plt.xlabel('Txn_ID')\n",
    "plt.ylabel('Txn_amount in $', rotation=0, labelpad=40)\n",
    "plt.legend()\n",
    "\n",
    "for x, y in zip(df['txn_id'], df['txn_total']):\n",
    "    label = \"{:.2f}\".format(y)\n",
    "    plt.annotate(label, xy=(x, y))"
   ],
   "id": "5cbc071079e1e294",
   "execution_count": 13,
   "outputs": []
  },
  {
   "metadata": {
    "ExecuteTime": {
     "end_time": "2024-06-08T14:18:40.625642Z",
     "start_time": "2024-06-08T14:18:40.617641Z"
    }
   },
   "cell_type": "code",
   "source": "df['txn_total'].describe()",
   "id": "9e6775b785a9fd25",
   "execution_count": 14,
   "outputs": []
  },
  {
   "metadata": {
    "ExecuteTime": {
     "end_time": "2024-06-08T14:18:40.740043Z",
     "start_time": "2024-06-08T14:18:40.628635Z"
    }
   },
   "cell_type": "code",
   "source": "plt.hist(df['txn_total'])",
   "id": "b084907c672cf692",
   "execution_count": 15,
   "outputs": []
  },
  {
   "metadata": {
    "ExecuteTime": {
     "end_time": "2024-06-08T14:18:40.961165Z",
     "start_time": "2024-06-08T14:18:40.741713Z"
    }
   },
   "cell_type": "code",
   "source": [
    "count, limits, bins = plt.hist(df['txn_total'], bins=8, label=\"TRANSACTION_TOTAL\")\n",
    "plt.title('Histogram of Transaction Amounts')\n",
    "plt.xlabel('Transaction Amount')\n",
    "plt.ylabel('Count')\n",
    "plt.legend()"
   ],
   "id": "adfe42715387855e",
   "execution_count": 16,
   "outputs": []
  },
  {
   "metadata": {
    "ExecuteTime": {
     "end_time": "2024-06-08T14:18:40.969798Z",
     "start_time": "2024-06-08T14:18:40.963115Z"
    }
   },
   "cell_type": "code",
   "source": "count",
   "id": "b78023113985e319",
   "execution_count": 17,
   "outputs": []
  },
  {
   "metadata": {
    "ExecuteTime": {
     "end_time": "2024-06-08T14:18:40.976484Z",
     "start_time": "2024-06-08T14:18:40.970569Z"
    }
   },
   "cell_type": "code",
   "source": "limits",
   "id": "8297d9c001bc332f",
   "execution_count": 18,
   "outputs": []
  },
  {
   "metadata": {
    "ExecuteTime": {
     "end_time": "2024-06-08T14:18:40.981229Z",
     "start_time": "2024-06-08T14:18:40.977909Z"
    }
   },
   "cell_type": "code",
   "source": "bins",
   "id": "bebb7de9d124aee6",
   "execution_count": 19,
   "outputs": []
  },
  {
   "metadata": {
    "ExecuteTime": {
     "end_time": "2024-06-08T14:18:40.985393Z",
     "start_time": "2024-06-08T14:18:40.983662Z"
    }
   },
   "cell_type": "code",
   "source": "",
   "id": "946381d3f9ca060c",
   "execution_count": 19,
   "outputs": []
  }
 ],
 "metadata": {
  "kernelspec": {
   "display_name": "Python 3",
   "language": "python",
   "name": "python3"
  },
  "language_info": {
   "codemirror_mode": {
    "name": "ipython",
    "version": 2
   },
   "file_extension": ".py",
   "mimetype": "text/x-python",
   "name": "python",
   "nbconvert_exporter": "python",
   "pygments_lexer": "ipython2",
   "version": "2.7.6"
  }
 },
 "nbformat": 4,
 "nbformat_minor": 5
}
