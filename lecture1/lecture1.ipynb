{
 "cells": [
  {
   "cell_type": "code",
   "id": "initial_id",
   "metadata": {
    "collapsed": true,
    "ExecuteTime": {
     "end_time": "2024-05-25T12:32:59.862606Z",
     "start_time": "2024-05-25T12:32:59.212216Z"
    }
   },
   "source": [
    "import matplotlib.pyplot as plt\n",
    "import pandas as pd"
   ],
   "execution_count": 2,
   "outputs": []
  },
  {
   "metadata": {
    "ExecuteTime": {
     "end_time": "2024-05-25T12:33:10.648991Z",
     "start_time": "2024-05-25T12:33:10.643751Z"
    }
   },
   "cell_type": "code",
   "source": [
    "df = pd.read_csv('../dataset/CustomersTransactions2021.csv')\n",
    "df.shape"
   ],
   "id": "1bf05f34b84a5254",
   "execution_count": 4,
   "outputs": []
  },
  {
   "metadata": {
    "ExecuteTime": {
     "end_time": "2024-05-11T13:27:56.916582Z",
     "start_time": "2024-05-11T13:27:56.913647Z"
    }
   },
   "cell_type": "code",
   "source": "df.columns",
   "id": "6274e9d29d02dbe2",
   "execution_count": 60,
   "outputs": []
  },
  {
   "metadata": {
    "ExecuteTime": {
     "end_time": "2024-05-11T13:27:56.923829Z",
     "start_time": "2024-05-11T13:27:56.917339Z"
    }
   },
   "cell_type": "code",
   "source": "df.head(15)",
   "id": "92aa82745e53c8d8",
   "execution_count": 61,
   "outputs": []
  },
  {
   "metadata": {
    "ExecuteTime": {
     "end_time": "2024-05-11T13:27:56.928848Z",
     "start_time": "2024-05-11T13:27:56.925462Z"
    }
   },
   "cell_type": "code",
   "source": [
    "df.rename(columns={'id': 'txn_id'}, inplace=True)\n",
    "\n",
    "df.columns"
   ],
   "id": "3fd350dc2e52aee2",
   "execution_count": 62,
   "outputs": []
  },
  {
   "metadata": {
    "ExecuteTime": {
     "end_time": "2024-05-11T13:27:56.935507Z",
     "start_time": "2024-05-11T13:27:56.929552Z"
    }
   },
   "cell_type": "code",
   "source": [
    "# sort the values of txn_id\n",
    "\n",
    "df.sort_values(by='txn_id', inplace=True)\n",
    "df.head(15)"
   ],
   "id": "aa0448aaf2562386",
   "execution_count": 63,
   "outputs": []
  },
  {
   "metadata": {},
   "cell_type": "markdown",
   "source": "### Line graph:",
   "id": "139612413504bff9"
  },
  {
   "metadata": {
    "ExecuteTime": {
     "end_time": "2024-05-25T15:33:46.209633Z",
     "start_time": "2024-05-25T15:33:46.036549Z"
    }
   },
   "cell_type": "code",
   "source": "plt.figure(figsize=(18, 10))",
   "id": "8701b978166bae75",
   "execution_count": 5,
   "outputs": []
  },
  {
   "metadata": {
    "ExecuteTime": {
     "end_time": "2024-05-18T12:56:41.731382Z",
     "start_time": "2024-05-18T12:56:41.731325Z"
    }
   },
   "cell_type": "code",
   "source": [
    "# plot txn_id vs txn_total\n",
    "\n",
    "plt.plot(df['txn_id'], df['txn_total'])"
   ],
   "id": "21a17c71dd817c0",
   "execution_count": null,
   "outputs": []
  },
  {
   "metadata": {
    "ExecuteTime": {
     "end_time": "2024-05-11T13:27:57.173972Z",
     "start_time": "2024-05-11T13:27:57.051683Z"
    }
   },
   "cell_type": "code",
   "source": [
    "# plot txn_id vs txn_total\n",
    "\n",
    "plt.plot(df['txn_id'], df['txn_total'])\n",
    "plt.title('Line Graph of Transaction Amounts')\n",
    "plt.xlabel('Txn_ID')\n",
    "plt.ylabel('Txn_amount in $')"
   ],
   "id": "d89abfbbbdc267f4",
   "execution_count": 65,
   "outputs": []
  },
  {
   "metadata": {
    "ExecuteTime": {
     "end_time": "2024-05-11T13:27:57.297555Z",
     "start_time": "2024-05-11T13:27:57.174834Z"
    }
   },
   "cell_type": "code",
   "source": [
    "# plot txn_id vs txn_total\n",
    "\n",
    "plt.plot(df['txn_id'], df['txn_total'], 'r--o', label=\"TRANSACTION_DOLLARS\")\n",
    "plt.title('Line Graph of Transaction Amounts')\n",
    "plt.xlabel('Txn_ID')\n",
    "plt.ylabel('Txn_amount in $')\n",
    "plt.legend()"
   ],
   "id": "b92aa448e46823a",
   "execution_count": 66,
   "outputs": []
  },
  {
   "metadata": {
    "ExecuteTime": {
     "end_time": "2024-05-11T13:27:57.426511Z",
     "start_time": "2024-05-11T13:27:57.299735Z"
    }
   },
   "cell_type": "code",
   "source": [
    "plt.plot(df['txn_id'], df['txn_total'], 'r--o', label=\"TRANSACTION_DOLLARS\")\n",
    "plt.title('Line Graph of Transaction Amounts')\n",
    "plt.xlabel('Txn_ID')\n",
    "plt.ylabel('Txn_amount in $', rotation=0, labelpad=40)\n",
    "plt.legend()"
   ],
   "id": "c75269d47cc05350",
   "execution_count": 67,
   "outputs": []
  },
  {
   "metadata": {
    "ExecuteTime": {
     "end_time": "2024-05-11T13:28:47.942999Z",
     "start_time": "2024-05-11T13:28:47.689954Z"
    }
   },
   "cell_type": "code",
   "source": [
    "plt.plot(df['txn_id'], df['txn_total'], 'r--o', label=\"TRANSACTION_DOLLARS\")\n",
    "plt.title('Line Graph of Transaction Amounts')\n",
    "plt.xlabel('Txn_ID')\n",
    "plt.ylabel('Txn_amount in $', rotation=0, labelpad=40)\n",
    "plt.legend()\n",
    "\n",
    "for x, y in zip(df['txn_id'], df['txn_total']):\n",
    "    label = \"{:.2f}\".format(y)\n",
    "    plt.annotate(label, xy=(x, y))"
   ],
   "id": "5cbc071079e1e294",
   "execution_count": 72,
   "outputs": []
  },
  {
   "metadata": {
    "ExecuteTime": {
     "end_time": "2024-05-11T14:41:30.214136Z",
     "start_time": "2024-05-11T14:41:30.180315Z"
    }
   },
   "cell_type": "code",
   "source": "df['txn_total'].describe()",
   "id": "9e6775b785a9fd25",
   "execution_count": 76,
   "outputs": []
  },
  {
   "metadata": {
    "ExecuteTime": {
     "end_time": "2024-05-11T14:49:44.446301Z",
     "start_time": "2024-05-11T14:49:44.319532Z"
    }
   },
   "cell_type": "code",
   "source": "plt.hist(df['txn_total'])",
   "id": "b084907c672cf692",
   "execution_count": 78,
   "outputs": []
  },
  {
   "metadata": {
    "ExecuteTime": {
     "end_time": "2024-05-11T14:55:25.635770Z",
     "start_time": "2024-05-11T14:55:25.479167Z"
    }
   },
   "cell_type": "code",
   "source": [
    "count, limits, bins = plt.hist(df['txn_total'], bins=8, label=\"TRANSACTION_TOTAL\")\n",
    "plt.title('Histogram of Transaction Amounts')\n",
    "plt.xlabel('Transaction Amount')\n",
    "plt.ylabel('Count')\n",
    "plt.legend()"
   ],
   "id": "adfe42715387855e",
   "execution_count": 81,
   "outputs": []
  },
  {
   "metadata": {
    "ExecuteTime": {
     "end_time": "2024-05-11T14:55:28.727113Z",
     "start_time": "2024-05-11T14:55:28.722743Z"
    }
   },
   "cell_type": "code",
   "source": "count",
   "id": "b78023113985e319",
   "execution_count": 82,
   "outputs": []
  },
  {
   "metadata": {
    "ExecuteTime": {
     "end_time": "2024-05-11T14:55:31.456775Z",
     "start_time": "2024-05-11T14:55:31.454253Z"
    }
   },
   "cell_type": "code",
   "source": "limits",
   "id": "8297d9c001bc332f",
   "execution_count": 83,
   "outputs": []
  },
  {
   "metadata": {
    "ExecuteTime": {
     "end_time": "2024-05-11T14:55:33.222248Z",
     "start_time": "2024-05-11T14:55:33.219537Z"
    }
   },
   "cell_type": "code",
   "source": "bins",
   "id": "bebb7de9d124aee6",
   "execution_count": 84,
   "outputs": []
  },
  {
   "metadata": {},
   "cell_type": "code",
   "execution_count": null,
   "source": "",
   "id": "946381d3f9ca060c",
   "outputs": []
  }
 ],
 "metadata": {
  "kernelspec": {
   "display_name": "Python 3",
   "language": "python",
   "name": "python3"
  },
  "language_info": {
   "codemirror_mode": {
    "name": "ipython",
    "version": 2
   },
   "file_extension": ".py",
   "mimetype": "text/x-python",
   "name": "python",
   "nbconvert_exporter": "python",
   "pygments_lexer": "ipython2",
   "version": "2.7.6"
  }
 },
 "nbformat": 4,
 "nbformat_minor": 5
}
