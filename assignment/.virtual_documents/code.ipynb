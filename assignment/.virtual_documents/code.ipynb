import pandas as pd
import numpy as np
import matplotlib.pyplot as plt
import seaborn as sns
import pandas as pd
from datetime import datetime
import plotly.express as px


def load_csv_from_google_drive(url, name):
  # Attempting to load a CSV file from a Google Drive link into a Pandas DataFrame.
  try:
      # Extracting file ID from the original URL to construct a direct download link.
      url = 'https://drive.google.com/uc?id=' + url.split('/')[-2]

      # Loading the CSV data from the constructed URL into a Pandas DataFrame.
      df = pd.read_csv(url)

      # Confirmation message upon successful loading of CSV data.
      print(f'{name} CSV loaded successfully.')

      # Returning the loaded DataFrame.
      return df

  except Exception as e:
      # Handling any exceptions that may occur during the process and printing the error message.
      print('Exception occurred: ', str(e))


october_url = 'https://drive.google.com/file/d/1UtdVqi97LLiikZ2mz3WNNl47fgYbdQ2d/view?usp=sharing'
november_url = 'https://drive.google.com/file/d/1O4AfZ1Zjt1QQQ_ZdMc_tF-y9Xq2HbAfH/view?usp=sharing'
december_url = 'https://drive.google.com/file/d/1ec0S1F0_wKYTKe9Kh2vJ67O63hTXUt4S/view?usp=sharing'

df_october = load_csv_from_google_drive(october_url, 'October')
df_november = load_csv_from_google_drive(november_url, 'November')
df_december = load_csv_from_google_drive(december_url, 'December')


# merge all three datasets for months October, November and December
df = pd.concat([df_october, df_november, df_december])


# renaming the columns
df.rename(columns={
    'Date': 'date',
    "Start (ET)":"Start_time",
    "Visitor/Neutral":"Visiting_team",
    "PTS":"Visiting_team_PTS",
    "Home/Neutral":"Home_team",
    "PTS.1":"Home_team_PTS",
    "Unnamed: 6":"Is_box_score",
    "Unnamed: 7":"Overtime",
    "Attend.":"Attendance",
},inplace=True)


# exploring the first 3 data in the dataset
df.head(3)


df.tail(3) # preview last 3 rows of data


df.info() # retrive general information about the dataframe


df.isna().mean()*100 #percentage of missing values


df.columns


df['date'] = pd.to_datetime(df['date'])


#df['Notes'].unique()
print(df['Notes'].value_counts(dropna = False),"n")
print(df[df['Notes']== 'at Mexico City Mexico'])

'''
This feature can be dropped. It appears the notes column may have been intended to be a location feature, where the actually location of the venue played
would be recorded. This actually explains why the visitor and home column names include the term "neutral". Similar to the nfl some nba regular season and
preseason games are played in different countries. Across the  three datasets given only one game was played outside of the United States. Considering the
potential class inbalance and lack of variability this feature can be removed for further analysis.

'''

#filtered out notes column to manage missing values
df = df[['date', 'Start_time', 'Visiting_team', 'Visiting_team_PTS', 'Home_team',
       'Home_team_PTS', 'Is_box_score', 'Overtime', 'Attendance', 'Arena',]]


'''
Addressing empty values in feature Overtime:

The fetaure Overtime, captures matches were teams played overtime in an attempt to decide the winner. A typical basketball game has a regular match time of
60 minutes, if at the end of regulation time, the scores are tied, the match enters what is called overtime until a winner decide.

That being said it is not unsual that this feature has a significant number of missing values and can be described as Missing at Random(MAR).

Considering the nature of this analysis, this feature could be removed from the dataset, or preserved for further analysis. Despite there be missing values, it does not
mean it does not represent information, so simply creating a new binary class feature called played_OT could be done.

'''

df['played_OT'] =  df['Overtime'].apply(lambda x: 'yes' if pd.notna(x) else 'no')
df = df.drop('Overtime', axis=1)
df['played_OT'].value_counts()


df.isna().mean()*100 #check that missing values were handledpercentage of missing values





def calculate_rest(group):
    group = group.sort_values('date')
    group['rest'] = (group['date'] - group['date'].shift()).dt.days
    return group

# Calculate rest for each team (both as home and away team)
df_home = df.groupby('Home_team').apply(calculate_rest).reset_index(drop=True)
df_away = df.groupby('Visiting_team').apply(calculate_rest).reset_index(drop=True)

# Combine home and away data
df_home['is_home'] = True
df_away['is_home'] = False
df_combined = pd.concat([df_home, df_away], ignore_index=True)

# Calculate average rest for home and away games for each team
rest_diff = df_combined.groupby(['Home_team', 'is_home'])['rest'].mean().unstack()
rest_diff.columns = ['away_rest', 'home_rest']

print(rest_diff['home_rest'] - rest_diff['away_rest'])

#Absolute Difference in rest
rest_diff['rest_difference'] = np.abs(rest_diff['home_rest'] - rest_diff['away_rest'])

# Sort by rest difference
rest_diff = rest_diff.sort_values('rest_difference', ascending=False)#.round()

rest_diff.round()


# @title Rest difference

fig = px.line(rest_diff, x=rest_diff.index, y='rest_difference',
              title='Rest Difference',
              labels={'Home_team': 'Home Team', 'rest_difference': 'Rest Difference (Days)'})
fig.update_layout(xaxis_tickangle=45)
fig.show()


# Create bar charts for home rest, away rest, and rest difference using Plotly Express

#Home Team Rest


# Create a bar chart for home rest
fig_home_rest = px.bar(rest_diff.sort_values(by='home_rest', ascending=False), x=rest_diff.sort_values(by='home_rest', ascending=False).index, y='home_rest',
                     labels={'Home_team': 'Team', 'home_rest': 'Average Home Rest (Days)'},
                     title='Average Home Rest for NBA Teams')
fig_home_rest.update_xaxes(tickangle=65)
fig_home_rest.show()


#Away Team Rest
fig_away_rest = px.bar(rest_diff.sort_values(by='away_rest', ascending=False), x=rest_diff.sort_values(by='away_rest', ascending=False).index, y='away_rest',
                     labels={'Home_team': 'Team', 'away_rest': 'Average Away Rest (Days)'},
                     title='Average Away Rest for NBA Teams')
fig_away_rest.update_xaxes(tickangle=65)
fig_away_rest.show()

#Team's  Difference between Rest after Home and Away game
fig_rest_diff = px.bar(rest_diff, x=rest_diff.index, y='rest_difference',
                     labels={'Home_team': 'Team', 'rest_difference': 'Absolute Rest Difference (Days)'},
                     title='Absolute Difference in Average Rest Between Home and Away Games')
fig_rest_diff.update_xaxes(tickangle=65)
fig_rest_diff.show()



import plotly.graph_objects as go


fig = go.Figure()
fig.add_trace(go.Bar(
    x=rest_diff.index,
    y=rest_diff['home_rest'],
    name='Home Rest',
    marker_color='blue'
))
fig.add_trace(go.Bar(
    x=rest_diff.index,
    y=rest_diff['away_rest'],
    name='Away Rest',
    marker_color='red'
))
fig.add_trace(go.Bar(
    x=rest_diff.index,
    y=rest_diff['rest_difference'],
    name='Rest Difference',
    marker_color='green'
))

fig.update_layout(
    title='Home Rest, Away Rest, and Rest Difference by Team',
    xaxis_title='Team',
    yaxis_title='Average Rest Days',
    barmode='group'
)
fig.show()



# Pivot the data to create a matrix suitable for a heatmap
heatmap_data = df_combined.pivot_table(values='rest', index='Home_team',
                                       columns='is_home', aggfunc='mean')
heatmap_data.columns = ['Away', 'Home']

# Sort in descending order y away games
heatmap_data= heatmap_data.sort_values(by=['Away'], ascending=False)


# Create the heatmap
plt.figure(figsize=(12, 10))
sns.heatmap(heatmap_data, annot=True, cmap='YlOrRd', fmt='.1f')
plt.title('Average Rest Days: Home vs Away Games')
plt.xlabel('Game Location')
plt.ylabel('Team')
plt.tight_layout()
plt.show()





df_2 = pd.concat([df_october, df_november, df_december])


# Renaming the feature names to appropriate one
df_2.rename(
    columns={
      'Date':'date',
      'Visitor/Neutral':'visitor_neutral_team',
      'PTS':'points',
      'Home/Neutral':'home_neutral_team',
      'PTS.1':'points_1',
      'Start (ET)':'time',
      'Unnamed: 7':'overtime_periods',
      'Unnamed: 6':'box_score',
      'Attend.':'attendance',
      'Arena':'arena'
    },
    inplace=True
)


df_2.head(2)





# Creating week feature from date feature
df_2['date'] = pd.to_datetime(df_2['date'])
df_2['week'] = df_2['date'].dt.isocalendar().week





df_2.head(5)


weekly_performance = df_2.groupby(['week', 'visitor_neutral_team'])['points'].mean().reset_index()


# Sorting the values based on visitor_neutral_team and date
df_sorted = df_2.sort_values(by=['visitor_neutral_team', 'date'])





df_sorted['game_week'] = df_sorted['date'].dt.isocalendar().week

# Create a column to identify if the team had a game in the previous week
df_sorted['previous_week'] = df_sorted.groupby('visitor_neutral_team')['game_week'].shift(1)
df_sorted['previous_week_game'] = df_sorted['previous_week'] == (df_sorted['game_week'] - 1)


# Get the week number of each teams game
df_2['game_week'] = df_2['date'].dt.isocalendar().week

# Creating a column to identify if the team had a game in the previous week
df_2['previous_week'] = df_2.groupby('visitor_neutral_team')['game_week'].shift(1)
df_2['previous_week_game'] = df_2['previous_week'] == (df_2['game_week'] - 1)





weekly_performance = df_sorted.groupby(['game_week', 'visitor_neutral_team'])['points'].mean().reset_index()






# Merging the average points with the previous week data
df_merged = pd.merge(df_sorted, weekly_performance, on=['game_week', 'visitor_neutral_team'], suffixes=('', '_avg'))

# Identifying weeks following a week with no games
df_merged['no_game_previous_week'] = ~df_merged['previous_week_game']

# Calculating average points in weeks following no game weeks
rest_week_performance = df_merged[df_merged['no_game_previous_week']].groupby('visitor_neutral_team')['points_avg'].mean().reset_index()

# Calculating average points in weeks with previous week games
non_rest_week_performance = df_merged[df_merged['previous_week_game']].groupby('visitor_neutral_team')['points_avg'].mean().reset_index()

# Merging both DataFrames for comparison
performance_comparison = pd.merge(rest_week_performance, non_rest_week_performance, on='visitor_neutral_team', suffixes=('_after_rest', '_after_non_rest'))
performance_comparison['difference'] = performance_comparison['points_avg_after_rest'] - performance_comparison['points_avg_after_non_rest']



performance_comparison['difference'].sum()





import matplotlib.pyplot as plt
import seaborn as sns

plt.figure(figsize=(14, 7))
barplot = sns.barplot(x='visitor_neutral_team', y='difference', data=performance_comparison, palette='viridis')


# Add title and labels
plt.title('Difference in Average Points After Rest Week vs Non-Rest Week')
plt.xlabel('Team')
plt.ylabel('Difference in Average Points')
plt.xticks(rotation=90)

for p in barplot.patches:
    barplot.annotate(format(p.get_height(), '.1f'),
                     (p.get_x() + p.get_width() / 2., p.get_height()),
                     ha = 'center', va = 'center',
                     xytext = (0, 9),
                     textcoords = 'offset points')

# Rotate x-axis labels for better readability
plt.xticks(rotation=90)

# Show plot
plt.show()








# loading the datasets
october_url = 'https://drive.google.com/file/d/1UtdVqi97LLiikZ2mz3WNNl47fgYbdQ2d/view?usp=sharing'
november_url = 'https://drive.google.com/file/d/1O4AfZ1Zjt1QQQ_ZdMc_tF-y9Xq2HbAfH/view?usp=sharing'
december_url = 'https://drive.google.com/file/d/1ec0S1F0_wKYTKe9Kh2vJ67O63hTXUt4S/view?usp=sharing'

df_october = load_csv_from_google_drive(october_url, 'October')
df_november = load_csv_from_google_drive(november_url, 'November')
df_december = load_csv_from_google_drive(december_url, 'December')


df = pd.concat([df_october, df_november, df_december]) #merge all three datasets for months October, November and December


# renaming the columns
df.rename(columns={
    "Start (ET)":"Start_time",
    "Visitor/Neutral":"Visiting_team",
    "PTS":"Visiting_team_PTS",
    "Home/Neutral":"Home_team",
    "PTS.1":"Home_team_PTS",
    "Unnamed: 6":"IsBoxScore",
    "Unnamed: 7":"Overtime",
    "Attend.":"Attendance",
},inplace=True)



#creating a new column in dataset contains the winning team by comparing the visiting and home team points
df['Winner'] = np.where(df['Visiting_team_PTS'] > df['Home_team_PTS'],df["Visiting_team"],df['Home_team'])



df.head()


#creating a dictionary containing visting team victories and home team victories
dict={}
dict["visit_vict"]=0
dict["home_vict"]=0
for i in range(df.shape[0]):
    if(df.iloc[i, 2]==df.iloc[i,11]):
        dict["visit_vict"]+=1
    else:
        dict["home_vict"]+=1




place = list(dict.keys())
values = list(dict.values())
plots=plt.bar(place, values, color ='green', width = 0.4)
#getting center position of the bars to annotate the wins
for bar in plots.patches:
    x_pos = bar.get_x() + bar.get_width() / 2
    y_pos = bar.get_height()
    plt.annotate(format(y_pos), (x_pos, y_pos), ha='center', va='center', size=10, xytext=(0, 8), textcoords='offset points')
plt.xlabel("Match held at")
plt.ylabel("No of Wins")
plt.title("No of matches won by teams at home and visiting")
plt.show()





#adding the columns with true or false if visting team wins or loses and same for home team
df['Visiting_team_wins'] = df['Visiting_team_PTS'] > df['Home_team_PTS']
df['Home_team_wins'] = df['Visiting_team_PTS'] < df['Home_team_PTS']

#taking the unique teams from visiting and home
teams = pd.unique(df[['Visiting_team', 'Home_team']].values.ravel('K'))

#calculating win percentages of every team
win_percentages = {}

for team in teams:
    visiting_wins = df[df['Visiting_team'] == team]['Visiting_team_wins'].sum()
    home_wins = df[df['Home_team'] == team]['Home_team_wins'].sum()

    total_games = visiting_wins + home_wins
    if total_games > 0:
        visiting_win_percentage = (visiting_wins / total_games) * 100
        home_win_percentage = (home_wins / total_games) * 100
        win_percentages[team] = (visiting_win_percentage, home_win_percentage)


num_teams = len(teams)
num_cols = 5
num_rows = 6
#creating sub plots for all the teams
fig, axes = plt.subplots(num_rows, num_cols, figsize=(20, 25))
axes = axes.flatten()


for ax, (team, (visiting_percentage, home_percentage)) in zip(axes, win_percentages.items()):
    ax.pie([visiting_percentage, home_percentage], labels=['Visiting Wins', 'Home Wins'], autopct='%1.1f%%', colors=['#ff9999','#66b3ff'])
    ax.set_title(f'{team}')


for ax in axes[len(teams):]:
    ax.axis('off')

plt.tight_layout()
plt.show()



