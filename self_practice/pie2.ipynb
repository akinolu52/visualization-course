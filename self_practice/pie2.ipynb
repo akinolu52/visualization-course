{
 "cells": [
  {
   "cell_type": "code",
   "id": "initial_id",
   "metadata": {
    "collapsed": true,
    "ExecuteTime": {
     "end_time": "2024-06-08T15:56:26.183032Z",
     "start_time": "2024-06-08T15:56:26.178399Z"
    }
   },
   "source": [
    "import pandas as pd\n",
    "import seaborn as sns\n",
    "\n",
    "from matplotlib import pyplot as plt"
   ],
   "execution_count": 22,
   "outputs": []
  },
  {
   "metadata": {
    "ExecuteTime": {
     "end_time": "2024-06-08T15:53:47.823241Z",
     "start_time": "2024-06-08T15:53:47.813965Z"
    }
   },
   "cell_type": "code",
   "source": [
    "\n",
    "df = pd.read_csv('./company_sales_data.csv')\n",
    "\n",
    "df.head()"
   ],
   "id": "41abbee160798e17",
   "execution_count": 14,
   "outputs": []
  },
  {
   "metadata": {
    "ExecuteTime": {
     "end_time": "2024-06-08T15:53:48.060592Z",
     "start_time": "2024-06-08T15:53:48.056237Z"
    }
   },
   "cell_type": "code",
   "source": [
    "total_unit_sold = df['total_units'].sum()\n",
    "\n",
    "total_unit_sold"
   ],
   "id": "576ddb6c06e14fbc",
   "execution_count": 15,
   "outputs": []
  },
  {
   "metadata": {
    "ExecuteTime": {
     "end_time": "2024-06-08T15:54:17.696188Z",
     "start_time": "2024-06-08T15:54:17.691933Z"
    }
   },
   "cell_type": "code",
   "source": [
    "facecream_section = df['facecream'].sum() / total_unit_sold\n",
    "facewash_section = df['facewash'].sum() / total_unit_sold\n",
    "toothpaste_section = df['toothpaste'].sum() / total_unit_sold\n",
    "bathingsoap_section = df['bathingsoap'].sum() / total_unit_sold\n",
    "shampoo_section = df['shampoo'].sum() / total_unit_sold\n",
    "moisturizer_section = df['moisturizer'].sum() / total_unit_sold\n",
    "\n",
    "data = [facecream_section, facewash_section, toothpaste_section, bathingsoap_section, shampoo_section,\n",
    "        moisturizer_section]\n",
    "\n",
    "data"
   ],
   "id": "b40bf31bc7d3b474",
   "execution_count": 19,
   "outputs": []
  },
  {
   "metadata": {
    "ExecuteTime": {
     "end_time": "2024-06-08T15:54:18.243157Z",
     "start_time": "2024-06-08T15:54:18.147844Z"
    }
   },
   "cell_type": "code",
   "source": [
    "plt.pie(\n",
    "    data,\n",
    "    labels=['facecream', 'facewash', 'toothpaste', 'bathingsoap', 'shampoo', 'moisturizer'],\n",
    "    autopct='%1.2f%%',\n",
    "    # colors=sns.color_palette(\"pastel\", 6),\n",
    ")"
   ],
   "id": "3b740cfa2cdf59b5",
   "execution_count": 20,
   "outputs": []
  },
  {
   "metadata": {
    "ExecuteTime": {
     "end_time": "2024-06-08T15:56:08.215719Z",
     "start_time": "2024-06-08T15:56:08.200513Z"
    }
   },
   "cell_type": "code",
   "source": [
    "data = []\n",
    "total_profit_sum = df['total_profit'].sum()\n",
    "\n",
    "for month in df['month_number'].unique():\n",
    "    profit_sum = df[df['month_number'] == month].total_profit / total_profit_sum\n",
    "    data.append(profit_sum[month - 1])\n",
    "\n",
    "data"
   ],
   "id": "79f879f8feeeb2d9",
   "execution_count": 21,
   "outputs": []
  },
  {
   "metadata": {
    "ExecuteTime": {
     "end_time": "2024-06-08T15:56:55.232090Z",
     "start_time": "2024-06-08T15:56:55.145831Z"
    }
   },
   "cell_type": "code",
   "source": [
    "plt.pie(\n",
    "    data,\n",
    "    labels=df['month_number'].unique(),\n",
    "    autopct='%1.2f%%',\n",
    "    colors=sns.color_palette('pastel')[:12]\n",
    ")"
   ],
   "id": "38b917de2f5a256a",
   "execution_count": 24,
   "outputs": []
  },
  {
   "metadata": {},
   "cell_type": "code",
   "execution_count": null,
   "source": "",
   "id": "34fcad15c88b5639",
   "outputs": []
  }
 ],
 "metadata": {
  "kernelspec": {
   "display_name": "Python 3",
   "language": "python",
   "name": "python3"
  },
  "language_info": {
   "codemirror_mode": {
    "name": "ipython",
    "version": 2
   },
   "file_extension": ".py",
   "mimetype": "text/x-python",
   "name": "python",
   "nbconvert_exporter": "python",
   "pygments_lexer": "ipython2",
   "version": "2.7.6"
  }
 },
 "nbformat": 4,
 "nbformat_minor": 5
}
