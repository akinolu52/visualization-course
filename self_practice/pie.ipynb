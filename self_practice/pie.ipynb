{
 "cells": [
  {
   "metadata": {},
   "cell_type": "markdown",
   "source": "",
   "id": "88227d3e38fb875b"
  },
  {
   "metadata": {},
   "cell_type": "markdown",
   "source": [
    "Display 2 piecharts showing:\n",
    "\n",
    "1) The Year-end contribution of each Product, in terms of total_units_sold\n",
    "2) The contribution of each Month, towards total_year-end_profit"
   ],
   "id": "94144ad74f32f4b8"
  },
  {
   "metadata": {
    "ExecuteTime": {
     "end_time": "2024-06-08T15:39:29.537372Z",
     "start_time": "2024-06-08T15:39:29.535014Z"
    }
   },
   "cell_type": "code",
   "source": [
    "import pandas as pd\n",
    "import seaborn as sns\n",
    "from matplotlib import pyplot as plt"
   ],
   "id": "936cd626960c2c7f",
   "outputs": [],
   "execution_count": 99
  },
  {
   "cell_type": "code",
   "id": "initial_id",
   "metadata": {
    "collapsed": true,
    "ExecuteTime": {
     "end_time": "2024-06-08T15:39:29.576170Z",
     "start_time": "2024-06-08T15:39:29.560291Z"
    }
   },
   "source": [
    "df = pd.read_csv('./company_sales_data.csv')\n",
    "\n",
    "df.head()"
   ],
   "outputs": [
    {
     "data": {
      "text/plain": [
       "   month_number  facecream  facewash  toothpaste  bathingsoap  shampoo  \\\n",
       "0             1       2500      1500        5200         9200     1200   \n",
       "1             2       2630      1200        5100         6100     2100   \n",
       "2             3       2140      1340        4550         9550     3550   \n",
       "3             4       3400      1130        5870         8870     1870   \n",
       "4             5       3600      1740        4560         7760     1560   \n",
       "\n",
       "   moisturizer  total_units  total_profit  \n",
       "0         1500        21100        211000  \n",
       "1         1200        18330        183300  \n",
       "2         1340        22470        224700  \n",
       "3         1130        22270        222700  \n",
       "4         1740        20960        209600  "
      ],
      "text/html": [
       "<div>\n",
       "<style scoped>\n",
       "    .dataframe tbody tr th:only-of-type {\n",
       "        vertical-align: middle;\n",
       "    }\n",
       "\n",
       "    .dataframe tbody tr th {\n",
       "        vertical-align: top;\n",
       "    }\n",
       "\n",
       "    .dataframe thead th {\n",
       "        text-align: right;\n",
       "    }\n",
       "</style>\n",
       "<table border=\"1\" class=\"dataframe\">\n",
       "  <thead>\n",
       "    <tr style=\"text-align: right;\">\n",
       "      <th></th>\n",
       "      <th>month_number</th>\n",
       "      <th>facecream</th>\n",
       "      <th>facewash</th>\n",
       "      <th>toothpaste</th>\n",
       "      <th>bathingsoap</th>\n",
       "      <th>shampoo</th>\n",
       "      <th>moisturizer</th>\n",
       "      <th>total_units</th>\n",
       "      <th>total_profit</th>\n",
       "    </tr>\n",
       "  </thead>\n",
       "  <tbody>\n",
       "    <tr>\n",
       "      <th>0</th>\n",
       "      <td>1</td>\n",
       "      <td>2500</td>\n",
       "      <td>1500</td>\n",
       "      <td>5200</td>\n",
       "      <td>9200</td>\n",
       "      <td>1200</td>\n",
       "      <td>1500</td>\n",
       "      <td>21100</td>\n",
       "      <td>211000</td>\n",
       "    </tr>\n",
       "    <tr>\n",
       "      <th>1</th>\n",
       "      <td>2</td>\n",
       "      <td>2630</td>\n",
       "      <td>1200</td>\n",
       "      <td>5100</td>\n",
       "      <td>6100</td>\n",
       "      <td>2100</td>\n",
       "      <td>1200</td>\n",
       "      <td>18330</td>\n",
       "      <td>183300</td>\n",
       "    </tr>\n",
       "    <tr>\n",
       "      <th>2</th>\n",
       "      <td>3</td>\n",
       "      <td>2140</td>\n",
       "      <td>1340</td>\n",
       "      <td>4550</td>\n",
       "      <td>9550</td>\n",
       "      <td>3550</td>\n",
       "      <td>1340</td>\n",
       "      <td>22470</td>\n",
       "      <td>224700</td>\n",
       "    </tr>\n",
       "    <tr>\n",
       "      <th>3</th>\n",
       "      <td>4</td>\n",
       "      <td>3400</td>\n",
       "      <td>1130</td>\n",
       "      <td>5870</td>\n",
       "      <td>8870</td>\n",
       "      <td>1870</td>\n",
       "      <td>1130</td>\n",
       "      <td>22270</td>\n",
       "      <td>222700</td>\n",
       "    </tr>\n",
       "    <tr>\n",
       "      <th>4</th>\n",
       "      <td>5</td>\n",
       "      <td>3600</td>\n",
       "      <td>1740</td>\n",
       "      <td>4560</td>\n",
       "      <td>7760</td>\n",
       "      <td>1560</td>\n",
       "      <td>1740</td>\n",
       "      <td>20960</td>\n",
       "      <td>209600</td>\n",
       "    </tr>\n",
       "  </tbody>\n",
       "</table>\n",
       "</div>"
      ]
     },
     "execution_count": 100,
     "metadata": {},
     "output_type": "execute_result"
    }
   ],
   "execution_count": 100
  },
  {
   "metadata": {
    "ExecuteTime": {
     "end_time": "2024-06-08T15:39:29.581799Z",
     "start_time": "2024-06-08T15:39:29.577627Z"
    }
   },
   "cell_type": "code",
   "source": "df.columns",
   "id": "7b7b026384bd75ee",
   "outputs": [
    {
     "data": {
      "text/plain": [
       "Index(['month_number', 'facecream', 'facewash', 'toothpaste', 'bathingsoap',\n",
       "       'shampoo', 'moisturizer', 'total_units', 'total_profit'],\n",
       "      dtype='object')"
      ]
     },
     "execution_count": 101,
     "metadata": {},
     "output_type": "execute_result"
    }
   ],
   "execution_count": 101
  },
  {
   "metadata": {
    "ExecuteTime": {
     "end_time": "2024-06-08T15:39:29.585316Z",
     "start_time": "2024-06-08T15:39:29.582828Z"
    }
   },
   "cell_type": "code",
   "source": [
    "total_unit_sold = df['total_units'].sum()\n",
    "\n",
    "total_unit_sold"
   ],
   "id": "743873c06290b62d",
   "outputs": [
    {
     "data": {
      "text/plain": [
       "312330"
      ]
     },
     "execution_count": 102,
     "metadata": {},
     "output_type": "execute_result"
    }
   ],
   "execution_count": 102
  },
  {
   "metadata": {},
   "cell_type": "markdown",
   "source": "solution 1",
   "id": "315c952f7dbd44fd"
  },
  {
   "metadata": {
    "ExecuteTime": {
     "end_time": "2024-06-08T15:39:29.589396Z",
     "start_time": "2024-06-08T15:39:29.586635Z"
    }
   },
   "cell_type": "code",
   "source": [
    "needed_columns = ['facecream', 'facewash', 'toothpaste', 'bathingsoap', 'shampoo', 'moisturizer']\n",
    "\n",
    "data = []\n",
    "\n",
    "for column in needed_columns:\n",
    "    data.append(df[column].sum() / total_unit_sold)\n",
    "\n",
    "data"
   ],
   "id": "bb4d6546b43dae7c",
   "outputs": [
    {
     "data": {
      "text/plain": [
       "[0.11039605545416707,\n",
       " 0.059280248455159605,\n",
       " 0.22383376556846923,\n",
       " 0.3650305766336887,\n",
       " 0.0813562578042455,\n",
       " 0.059280248455159605]"
      ]
     },
     "execution_count": 103,
     "metadata": {},
     "output_type": "execute_result"
    }
   ],
   "execution_count": 103
  },
  {
   "metadata": {
    "ExecuteTime": {
     "end_time": "2024-06-08T15:39:29.645592Z",
     "start_time": "2024-06-08T15:39:29.590145Z"
    }
   },
   "cell_type": "code",
   "source": [
    "plt.pie(\n",
    "    data,\n",
    "    labels=needed_columns,\n",
    "    autopct='%1.2f%%',\n",
    "    colors=sns.color_palette(\"pastel\", len(needed_columns)),\n",
    ")"
   ],
   "id": "b377eabd9587285e",
   "outputs": [
    {
     "data": {
      "text/plain": [
       "([<matplotlib.patches.Wedge at 0x30751fb10>,\n",
       "  <matplotlib.patches.Wedge at 0x307511c90>,\n",
       "  <matplotlib.patches.Wedge at 0x307511490>,\n",
       "  <matplotlib.patches.Wedge at 0x3075115d0>,\n",
       "  <matplotlib.patches.Wedge at 0x30750b7d0>,\n",
       "  <matplotlib.patches.Wedge at 0x3075305d0>],\n",
       " [Text(1.0191857210448148, 0.41383627924381056, 'facecream'),\n",
       "  Text(0.6140656340963603, 0.912646370190467, 'facewash'),\n",
       "  Text(-0.42521110485066355, 1.0144927384223499, 'toothpaste'),\n",
       "  Text(-0.6978922003796114, -0.85026259276138, 'bathingsoap'),\n",
       "  Text(0.8424026170852732, -0.7073597604669656, 'shampoo'),\n",
       "  Text(1.0764906937107435, -0.2262029760064236, 'moisturizer')],\n",
       " [Text(0.5559194842062626, 0.22572887958753302, '12.28%'),\n",
       "  Text(0.33494489132528743, 0.497807111012982, '6.59%'),\n",
       "  Text(-0.23193332991854373, 0.5533596755030998, '24.89%'),\n",
       "  Text(-0.3806684729343334, -0.4637795960516618, '40.60%'),\n",
       "  Text(0.4594923365919671, -0.3858325966183448, '9.05%'),\n",
       "  Text(0.5871767420240418, -0.12338344145804923, '6.59%')])"
      ]
     },
     "execution_count": 104,
     "metadata": {},
     "output_type": "execute_result"
    },
    {
     "data": {
      "text/plain": [
       "<Figure size 640x480 with 1 Axes>"
      ],
      "image/png": "[encoded data removed]"
     },
     "metadata": {},
     "output_type": "display_data"
    }
   ],
   "execution_count": 104
  },
  {
   "metadata": {},
   "cell_type": "markdown",
   "source": [
    "solution \n",
    "\n",
    "The contribution of each Month, towards total_year-end_profit"
   ],
   "id": "c5dae4944a3ab7aa"
  },
  {
   "metadata": {
    "ExecuteTime": {
     "end_time": "2024-06-08T15:39:29.649453Z",
     "start_time": "2024-06-08T15:39:29.646678Z"
    }
   },
   "cell_type": "code",
   "source": "df.columns",
   "id": "d6223728abe40576",
   "outputs": [
    {
     "data": {
      "text/plain": [
       "Index(['month_number', 'facecream', 'facewash', 'toothpaste', 'bathingsoap',\n",
       "       'shampoo', 'moisturizer', 'total_units', 'total_profit'],\n",
       "      dtype='object')"
      ]
     },
     "execution_count": 105,
     "metadata": {},
     "output_type": "execute_result"
    }
   ],
   "execution_count": 105
  },
  {
   "metadata": {
    "ExecuteTime": {
     "end_time": "2024-06-08T15:39:29.652398Z",
     "start_time": "2024-06-08T15:39:29.650005Z"
    }
   },
   "cell_type": "code",
   "source": [
    "total_profit_made = df['total_profit'].sum()\n",
    "\n",
    "total_profit_made"
   ],
   "id": "9c51d4e27ff4283b",
   "outputs": [
    {
     "data": {
      "text/plain": [
       "3123300"
      ]
     },
     "execution_count": 106,
     "metadata": {},
     "output_type": "execute_result"
    }
   ],
   "execution_count": 106
  },
  {
   "metadata": {
    "ExecuteTime": {
     "end_time": "2024-06-08T15:39:29.657014Z",
     "start_time": "2024-06-08T15:39:29.653238Z"
    }
   },
   "cell_type": "code",
   "source": [
    "months = df['month_number'].unique()\n",
    "\n",
    "months"
   ],
   "id": "7d3353bfee7436b8",
   "outputs": [
    {
     "data": {
      "text/plain": [
       "array([ 1,  2,  3,  4,  5,  6,  7,  8,  9, 10, 11, 12])"
      ]
     },
     "execution_count": 107,
     "metadata": {},
     "output_type": "execute_result"
    }
   ],
   "execution_count": 107
  },
  {
   "metadata": {
    "ExecuteTime": {
     "end_time": "2024-06-08T15:39:29.667457Z",
     "start_time": "2024-06-08T15:39:29.659521Z"
    }
   },
   "cell_type": "code",
   "source": [
    "data = []\n",
    "\n",
    "for month in months:\n",
    "    profit_sum = df[df['month_number'] == month].total_profit / total_profit_made\n",
    "    data.append(profit_sum[month - 1])\n",
    "\n",
    "data"
   ],
   "id": "b639e159621bfa27",
   "outputs": [
    {
     "data": {
      "text/plain": [
       "[0.06755675087247463,\n",
       " 0.058687926231870136,\n",
       " 0.07194313706656422,\n",
       " 0.07130278871706208,\n",
       " 0.06710850702782313,\n",
       " 0.06448307879486441,\n",
       " 0.09461146863893959,\n",
       " 0.11571094675503474,\n",
       " 0.07492075689174911,\n",
       " 0.08539045240610893,\n",
       " 0.13216789933723946,\n",
       " 0.09611628726026959]"
      ]
     },
     "execution_count": 108,
     "metadata": {},
     "output_type": "execute_result"
    }
   ],
   "execution_count": 108
  },
  {
   "metadata": {
    "ExecuteTime": {
     "end_time": "2024-06-08T15:39:29.671450Z",
     "start_time": "2024-06-08T15:39:29.668455Z"
    }
   },
   "cell_type": "code",
   "source": [
    "import calendar\n",
    "\n",
    "month_names = [calendar.month_name[month] for month in months]\n"
   ],
   "id": "21e36d1c5d4e9a2a",
   "outputs": [],
   "execution_count": 109
  },
  {
   "metadata": {
    "ExecuteTime": {
     "end_time": "2024-06-08T15:40:24.551808Z",
     "start_time": "2024-06-08T15:40:24.445956Z"
    }
   },
   "cell_type": "code",
   "source": [
    "plt.pie(\n",
    "    data,\n",
    "    labels=month_names,\n",
    "    autopct='%1.2f%%',\n",
    "    colors=sns.color_palette('pastel')[:len(months)]\n",
    ")"
   ],
   "id": "59f097434edcaae",
   "outputs": [
    {
     "data": {
      "text/plain": [
       "([<matplotlib.patches.Wedge at 0x3075fddd0>,\n",
       "  <matplotlib.patches.Wedge at 0x3075fd5d0>,\n",
       "  <matplotlib.patches.Wedge at 0x307572dd0>,\n",
       "  <matplotlib.patches.Wedge at 0x3074f6a90>,\n",
       "  <matplotlib.patches.Wedge at 0x3075eb090>,\n",
       "  <matplotlib.patches.Wedge at 0x307652550>,\n",
       "  <matplotlib.patches.Wedge at 0x307652310>,\n",
       "  <matplotlib.patches.Wedge at 0x30764f6d0>,\n",
       "  <matplotlib.patches.Wedge at 0x3075e9850>,\n",
       "  <matplotlib.patches.Wedge at 0x307652190>,\n",
       "  <matplotlib.patches.Wedge at 0x307659f90>,\n",
       "  <matplotlib.patches.Wedge at 0x30765de50>],\n",
       " [Text(1.075318635275667, 0.23171066576417557, 'January'),\n",
       "  Text(0.90233994698432, 0.6291125655050414, 'February'),\n",
       "  Text(0.5764196757176353, 0.9368779842890835, 'March'),\n",
       "  Text(0.11150354434326144, 1.0943340256059346, 'April'),\n",
       "  Text(-0.35986978209540105, 1.0394680081342613, 'May'),\n",
       "  Text(-0.7471407332350172, 0.8073293780985807, 'June'),\n",
       "  Text(-1.0426655108453784, 0.35049769256522423, 'July'),\n",
       "  Text(-1.0383225812609915, -0.36316142036773674, 'August'),\n",
       "  Text(-0.6528938314691488, -0.8852850641626882, 'September'),\n",
       "  Text(-0.14457981250945956, -1.0904570958156627, 'October'),\n",
       "  Text(0.5765138806974432, -0.9368200175931204, 'November'),\n",
       "  Text(1.0502315577268, -0.32712944709203373, 'December')],\n",
       " [Text(0.586537437423091, 0.12638763587136848, '6.76%'),\n",
       "  Text(0.4921854256278108, 0.3431523084572952, '5.87%'),\n",
       "  Text(0.3144107322096192, 0.5110243550667728, '7.19%'),\n",
       "  Text(0.060820115096324415, 0.596909468512328, '7.13%'),\n",
       "  Text(-0.19629260841567328, 0.5669825498914152, '6.71%'),\n",
       "  Text(-0.407531309037282, 0.44036147896286215, '6.45%'),\n",
       "  Text(-0.5687266422792973, 0.19118055958103136, '9.46%'),\n",
       "  Text(-0.5663577715969044, -0.19808804747331094, '11.57%'),\n",
       "  Text(-0.3561239080740812, -0.4828827622705571, '7.49%'),\n",
       "  Text(-0.07886171591425066, -0.594794779535816, '8.54%'),\n",
       "  Text(0.3144621167440599, -0.5109927368689747, '13.22%'),\n",
       "  Text(0.5728535769418908, -0.178434243868382, '9.61%')])"
      ]
     },
     "execution_count": 111,
     "metadata": {},
     "output_type": "execute_result"
    },
    {
     "data": {
      "text/plain": [
       "<Figure size 640x480 with 1 Axes>"
      ],
      "image/png": "[encoded data removed]"
     },
     "metadata": {},
     "output_type": "display_data"
    }
   ],
   "execution_count": 111
  }
 ],
 "metadata": {
  "kernelspec": {
   "display_name": "Python 3",
   "language": "python",
   "name": "python3"
  },
  "language_info": {
   "codemirror_mode": {
    "name": "ipython",
    "version": 2
   },
   "file_extension": ".py",
   "mimetype": "text/x-python",
   "name": "python",
   "nbconvert_exporter": "python",
   "pygments_lexer": "ipython2",
   "version": "2.7.6"
  }
 },
 "nbformat": 4,
 "nbformat_minor": 5
}
