{
 "cells": [
  {
   "cell_type": "code",
   "id": "initial_id",
   "metadata": {
    "collapsed": true,
    "ExecuteTime": {
     "end_time": "2024-05-29T01:02:47.027286Z",
     "start_time": "2024-05-29T01:02:47.025518Z"
    }
   },
   "source": "import pandas as pd\n",
   "execution_count": 1,
   "outputs": []
  },
  {
   "metadata": {
    "ExecuteTime": {
     "end_time": "2024-05-29T01:02:47.096385Z",
     "start_time": "2024-05-29T01:02:47.027972Z"
    }
   },
   "cell_type": "code",
   "source": [
    "df = pd.read_csv('../dataset/stockprices.csv')\n",
    "\n",
    "df.shape"
   ],
   "id": "4f54a07fa4d05e2c",
   "execution_count": 2,
   "outputs": []
  },
  {
   "metadata": {
    "ExecuteTime": {
     "end_time": "2024-05-29T01:02:47.100329Z",
     "start_time": "2024-05-29T01:02:47.097112Z"
    }
   },
   "cell_type": "code",
   "source": "df.columns",
   "id": "b7f5882c49adc86a",
   "execution_count": 3,
   "outputs": []
  },
  {
   "metadata": {
    "ExecuteTime": {
     "end_time": "2024-05-29T01:02:47.104531Z",
     "start_time": "2024-05-29T01:02:47.101228Z"
    }
   },
   "cell_type": "code",
   "source": "df['name'] = df['Name']",
   "id": "b88721e1d4dd272d",
   "execution_count": 4,
   "outputs": []
  },
  {
   "metadata": {
    "ExecuteTime": {
     "end_time": "2024-05-29T01:02:47.108713Z",
     "start_time": "2024-05-29T01:02:47.105475Z"
    }
   },
   "cell_type": "code",
   "source": "len(df['date'].unique())",
   "id": "6331c8972fb52bf3",
   "execution_count": 5,
   "outputs": []
  },
  {
   "metadata": {
    "ExecuteTime": {
     "end_time": "2024-05-29T01:02:47.123184Z",
     "start_time": "2024-05-29T01:02:47.109385Z"
    }
   },
   "cell_type": "code",
   "source": "df.head(15)",
   "id": "18bc687b840a90e3",
   "execution_count": 6,
   "outputs": []
  },
  {
   "metadata": {
    "ExecuteTime": {
     "end_time": "2024-05-29T01:02:47.136870Z",
     "start_time": "2024-05-29T01:02:47.129184Z"
    }
   },
   "cell_type": "code",
   "source": "df.isna().sum()",
   "id": "d31e640277aa1f7b",
   "execution_count": 7,
   "outputs": []
  },
  {
   "metadata": {
    "ExecuteTime": {
     "end_time": "2024-05-29T01:02:47.156837Z",
     "start_time": "2024-05-29T01:02:47.138776Z"
    }
   },
   "cell_type": "code",
   "source": "df.describe()",
   "id": "18336595d852953d",
   "execution_count": 8,
   "outputs": []
  },
  {
   "metadata": {
    "ExecuteTime": {
     "end_time": "2024-05-29T01:02:47.162945Z",
     "start_time": "2024-05-29T01:02:47.159180Z"
    }
   },
   "cell_type": "code",
   "source": "df.dtypes",
   "id": "5eda68cf8a4e56c7",
   "execution_count": 9,
   "outputs": []
  },
  {
   "metadata": {
    "ExecuteTime": {
     "end_time": "2024-05-29T01:02:47.169175Z",
     "start_time": "2024-05-29T01:02:47.163805Z"
    }
   },
   "cell_type": "code",
   "source": [
    "# Convert 'date' column to datetime type\n",
    "\n",
    "# df['date'] = pd.to_datetime(df['date'])"
   ],
   "id": "228848b9d2914845",
   "execution_count": 10,
   "outputs": []
  },
  {
   "metadata": {
    "ExecuteTime": {
     "end_time": "2024-05-29T01:02:47.177736Z",
     "start_time": "2024-05-29T01:02:47.172089Z"
    }
   },
   "cell_type": "code",
   "source": "companies = df['name'].unique()",
   "id": "ddd1b5830e4bb5d1",
   "execution_count": 11,
   "outputs": []
  },
  {
   "metadata": {
    "ExecuteTime": {
     "end_time": "2024-05-29T01:02:47.184737Z",
     "start_time": "2024-05-29T01:02:47.180559Z"
    }
   },
   "cell_type": "code",
   "source": [
    "from matplotlib import pyplot as plt\n",
    "import numpy as np"
   ],
   "id": "d16ef88fdff8f9b2",
   "execution_count": 12,
   "outputs": []
  },
  {
   "metadata": {
    "ExecuteTime": {
     "end_time": "2024-05-29T01:02:47.806059Z",
     "start_time": "2024-05-29T01:02:47.187412Z"
    }
   },
   "cell_type": "code",
   "source": [
    "# Plotting the closing prices over time\n",
    "plt.figure(figsize=(15, 5))\n",
    "\n",
    "row_count = df.shape[0]\n",
    "\n",
    "print(row_count / 240)\n",
    "\n",
    "for company in companies:\n",
    "    company_data = df[df['name'] == company]\n",
    "    plt.xticks(np.arange(0, row_count - 1, int(row_count / 145)), rotation=45)\n",
    "    plt.plot(company_data['date'], company_data['close'], label=company)\n",
    "\n",
    "plt.xlabel('Date')\n",
    "plt.ylabel('Closing Price')\n",
    "plt.title('Closing Stock Prices Over Time')\n",
    "plt.legend()\n",
    "plt.show()"
   ],
   "id": "9e84ef51f8fd78b8",
   "execution_count": 13,
   "outputs": []
  },
  {
   "metadata": {
    "ExecuteTime": {
     "end_time": "2024-05-29T01:02:48.188043Z",
     "start_time": "2024-05-29T01:02:47.807171Z"
    }
   },
   "cell_type": "code",
   "source": [
    "import plotly.express as px\n",
    "\n",
    "fig = px.line(df, x='date', y='close', color='name', title='Closing Stock Prices Over Time')\n",
    "\n",
    "fig.show()"
   ],
   "id": "66a30ff525dfbc4",
   "execution_count": 14,
   "outputs": []
  },
  {
   "metadata": {
    "ExecuteTime": {
     "end_time": "2024-05-29T01:02:48.202682Z",
     "start_time": "2024-05-29T01:02:48.202611Z"
    }
   },
   "cell_type": "code",
   "source": [
    "fig = px.bar(df, x='date', y='close', color='name', title='Closing Stock Prices Over Time')\n",
    "fig.show()"
   ],
   "id": "d5463b1a802f12d6",
   "execution_count": null,
   "outputs": []
  },
  {
   "metadata": {},
   "cell_type": "code",
   "source": [
    "# plt.hist(df['close'])\n",
    "\n",
    "# Plotting the closing prices over time\n",
    "\n",
    "\n",
    "for company in companies:\n",
    "    plt.figure(figsize=(10, 6))\n",
    "company_data = df[df['name'] == company]\n",
    "plt.hist(company_data['close'])\n",
    "plt.ylabel('Closing Price')\n",
    "plt.title('Closing Stock Prices Over Time for {}'.format(company))\n",
    "plt.show()\n",
    "# plt.hist(company_data['date'], company_data['close'], label=company)\n",
    "\n",
    "# plt.ylabel('Closing Price')\n",
    "# plt.title('Closing Stock Prices Over Time')\n",
    "# plt.legend()\n",
    "# plt.show()"
   ],
   "id": "d6ebbcee425e8013",
   "execution_count": null,
   "outputs": []
  },
  {
   "metadata": {},
   "cell_type": "code",
   "source": [
    "# plt.plot(df['name'], df['close'], 'r--o', label=\"TRANSACTION_DOLLARS\")\n",
    "# plt.title('Line Graph of Transaction Amounts')\n",
    "# plt.xlabel('Txn_ID')\n",
    "# plt.ylabel('Txn_amount in $', rotation=0, labelpad=40)\n",
    "# plt.legend()\n",
    "# \n",
    "# for x, y in zip(df['name'], df['close']):\n",
    "#     label = \"{:.2f}\".format(y)\n",
    "#     plt.annotate(label, xy=(x, y))\n",
    "#     plt.show()"
   ],
   "id": "1aa4f3e81b8934e9",
   "execution_count": null,
   "outputs": []
  },
  {
   "metadata": {},
   "cell_type": "code",
   "source": [
    "# for company in companies:\n",
    "#     plt.figure(figsize=(10, 6))\n",
    "#     company_data = df[df['name'] == company]\n",
    "#     plt.hist(company_data['close'])\n",
    "#     plt.ylabel('Closing Price')\n",
    "#     plt.title('Closing Stock Prices Over Time for {}'.format(company))\n",
    "#     plt.show()"
   ],
   "id": "2011e5cf2d64c782",
   "execution_count": null,
   "outputs": []
  },
  {
   "metadata": {},
   "cell_type": "code",
   "source": "df[df['name'] == 'MSFT']",
   "id": "fe8c1d903853652a",
   "execution_count": null,
   "outputs": []
  },
  {
   "metadata": {},
   "cell_type": "code",
   "source": [
    "\n",
    "\n",
    "for company in companies:\n",
    "    company_data = df[df['name'] == company]\n",
    "fig = go.Figure(data=[go.Candlestick(x=company_data['date'],\n",
    "                                     open=company_data['open'],\n",
    "                                     high=company_data['high'],\n",
    "                                     low=company_data['low'],\n",
    "                                     close=company_data['close'])])\n",
    "\n",
    "fig.update_layout(title='Candlestick Chart for {}'.format(company),\n",
    "                  xaxis_title='Date',\n",
    "                  yaxis_title='Price')\n",
    "\n",
    "fig.show()"
   ],
   "id": "1ae3ef7faa84e814",
   "execution_count": null,
   "outputs": []
  },
  {
   "metadata": {},
   "cell_type": "code",
   "source": [
    "for company in companies:\n",
    "    company_data = df[df['name'] == company]\n",
    "\n",
    "# Calculate moving averages\n",
    "company_data['MA50'] = company_data['close'].rolling(window=50).mean()\n",
    "company_data['MA200'] = company_data['close'].rolling(window=200).mean()\n",
    "\n",
    "company_data.head()\n",
    "\n",
    "# Plot the closing prices and moving averages\n",
    "# plt.figure(figsize=(14, 7))\n",
    "# plt.plot(company_data['date'], company_data['close'], label='Closing Price')\n",
    "# plt.plot(company_data['date'], company_data['MA50'], label='50-Day MA')\n",
    "# plt.plot(company_data['date'], company_data['MA200'], label='200-Day MA')\n",
    "# \n",
    "# plt.xlabel('Date')\n",
    "# plt.ylabel('Price')\n",
    "# plt.title('Closing Price with Moving Averages for {}'.format(company))\n",
    "# plt.legend()\n",
    "# plt.show()"
   ],
   "id": "9b939b692a20177c",
   "execution_count": null,
   "outputs": []
  },
  {
   "metadata": {},
   "cell_type": "code",
   "source": [
    "import seaborn as sns\n",
    "\n",
    "for company in companies:\n",
    "    company_data = df[df['name'] == company]\n",
    "# Filter the data for a single company for demonstration purposes\n",
    "# company_data = df[df['Name'] == 'CompanyA']\n",
    "\n",
    "# Plot scatter plot with trendline\n",
    "plt.figure(figsize=(14, 7))\n",
    "sns.regplot(x=company_data['date'].astype(int), y=company_data['close'], scatter=True, fit_reg=True)\n",
    "\n",
    "plt.xlabel('Date')\n",
    "plt.ylabel('Closing Price')\n",
    "plt.title('Scatter Plot with Trend line for {}'.format(company))\n",
    "plt.show()"
   ],
   "id": "b6b3c4a03815f733",
   "execution_count": null,
   "outputs": []
  },
  {
   "metadata": {},
   "cell_type": "code",
   "source": [
    "plt.figure(figsize=(14, 7))\n",
    "sns.boxplot(x='Name', y='close', data=df)\n",
    "\n",
    "plt.xlabel('Company')\n",
    "plt.ylabel('Closing Price')\n",
    "plt.title('Box Plot of Closing Prices for Different Companies')\n",
    "plt.show()"
   ],
   "id": "c4a4697d42042a0",
   "execution_count": null,
   "outputs": []
  },
  {
   "metadata": {},
   "cell_type": "code",
   "source": [
    "# # Pivot the data to get closing prices of each company in columns\n",
    "# pivot_df = df.pivot(index='date', columns='Name', values='close')\n",
    "# \n",
    "# # Calculate the correlation matrix\n",
    "# corr_matrix = pivot_df.corr()\n",
    "# \n",
    "# # Plot the heatmap\n",
    "# plt.figure(figsize=(10, 8))\n",
    "# sns.heatmap(corr_matrix, annot=True, cmap='coolwarm', vmin=-1, vmax=1)\n",
    "# \n",
    "# plt.title('Correlation Heatmap of Closing Prices')\n",
    "# plt.show()"
   ],
   "id": "aa68678903072502",
   "execution_count": null,
   "outputs": []
  },
  {
   "metadata": {},
   "cell_type": "code",
   "source": "# 6329 / x = 30",
   "id": "bcfaaf9852c2013c",
   "execution_count": null,
   "outputs": []
  },
  {
   "metadata": {},
   "cell_type": "code",
   "source": "plt.bar(['A', 'B', 'C', 'D'], [40, 80, 30, 15])",
   "id": "9e72ab5f4413c56",
   "execution_count": null,
   "outputs": []
  },
  {
   "metadata": {},
   "cell_type": "code",
   "source": [
    "### `plt.barh()`: horizontal bar-graph\n",
    "\n",
    "plt.barh(['A', 'B', 'C', 'D'], [40, 80, 30, 15])"
   ],
   "id": "457b7f125e1b2afb",
   "execution_count": null,
   "outputs": []
  },
  {
   "metadata": {},
   "cell_type": "markdown",
   "source": [
    "For <code>plt.bar(): plt.bar(x, heights, width)</code>\n",
    "\n",
    "<ul>\n",
    "<li>x = list of x-coords where the bars are <em>centered</em>\n",
    "<li>heights = list of heights of each bar</li>\n",
    "<li>width = a single value; width of each barl default = 0.8</li>\n",
    "</ul>"
   ],
   "id": "d1fff0e7cc0b3bc5"
  },
  {
   "metadata": {},
   "cell_type": "markdown",
   "source": [
    "## Grouped bar-graph\n",
    "\n",
    "<ol>\n",
    "<li>for a vertical bar graph: each category on the x-axis has multiple subcategories.</li>\n",
    "<li>for a horizontal bar graph: Each category on the y-axis has mutlple subcategories.</li>\n",
    "</ol>"
   ],
   "id": "18085cb2f285397"
  },
  {
   "metadata": {},
   "cell_type": "code",
   "source": "np.arange(1, 5)",
   "id": "7fde04fc9cc198d2",
   "execution_count": null,
   "outputs": []
  },
  {
   "metadata": {},
   "cell_type": "code",
   "source": "np.arange(5)",
   "id": "aa73e619225a8972",
   "execution_count": null,
   "outputs": []
  },
  {
   "metadata": {},
   "cell_type": "code",
   "source": [
    "course_list = ['CSE', 'EXTC', 'Mech', 'Aero', 'Mining']\n",
    "bar_indexes_along_x_axis = np.arange(len(course_list))\n",
    "\n",
    "girls_count_bar_height = [150, 100, 50, 20, 8]\n",
    "boys_count_bar_height = [100, 120, 80, 52, 28]\n",
    "\n",
    "w = 0.4\n",
    "\n",
    "bar_1 = bar_indexes_along_x_axis\n",
    "bar_2 = [(i + w) for i in bar_1]\n",
    "\n",
    "plt.xticks(bar_1 + (w / 2), course_list)\n",
    "\n",
    "plt.bar(bar_1, height=girls_count_bar_height, width=w, label=\"Girls\")\n",
    "plt.bar(bar_2, height=boys_count_bar_height, width=w, label=\"Boys\")\n"
   ],
   "id": "5d1a42ef26a69c53",
   "execution_count": null,
   "outputs": []
  },
  {
   "metadata": {},
   "cell_type": "code",
   "source": [
    "course_list = ['CSE', 'EXTC', 'Mech', 'Aero', 'Mining']\n",
    "bar_indexes_along_x_axis = np.arange(len(course_list))\n",
    "\n",
    "girls_count_bar_height = [150, 100, 50, 20, 8]\n",
    "boys_count_bar_height = [100, 120, 80, 52, 28]\n",
    "\n",
    "w = 0.4\n",
    "\n",
    "plt.xticks((bar_indexes_along_x_axis + (w / 2)), course_list)\n",
    "\n",
    "plt.bar(bar_indexes_along_x_axis, height=girls_count_bar_height, width=w, label=\"Girls\")\n",
    "plt.bar(bar_indexes_along_x_axis + w, height=boys_count_bar_height, width=w, label=\"Boys\")\n"
   ],
   "id": "ff745060066f2ddb",
   "execution_count": null,
   "outputs": []
  },
  {
   "metadata": {},
   "cell_type": "code",
   "source": "plt.stackplot(course_list, girls_count_bar_height, boys_count_bar_height)",
   "id": "5721407dbb671279",
   "execution_count": null,
   "outputs": []
  },
  {
   "metadata": {},
   "cell_type": "code",
   "source": "",
   "id": "83fbb407fc000038",
   "execution_count": null,
   "outputs": []
  }
 ],
 "metadata": {
  "kernelspec": {
   "display_name": "Python 3",
   "language": "python",
   "name": "python3"
  },
  "language_info": {
   "codemirror_mode": {
    "name": "ipython",
    "version": 2
   },
   "file_extension": ".py",
   "mimetype": "text/x-python",
   "name": "python",
   "nbconvert_exporter": "python",
   "pygments_lexer": "ipython2",
   "version": "2.7.6"
  }
 },
 "nbformat": 4,
 "nbformat_minor": 5
}
